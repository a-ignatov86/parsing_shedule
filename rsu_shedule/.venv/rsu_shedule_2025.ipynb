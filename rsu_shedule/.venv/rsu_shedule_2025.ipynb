{
 "cells": [
  {
   "cell_type": "markdown",
   "metadata": {},
   "source": [
    "Импорт библиотек"
   ]
  },
  {
   "cell_type": "code",
   "execution_count": 1,
   "metadata": {},
   "outputs": [],
   "source": [
    "import os\n",
    "from dotenv import load_dotenv\n",
    "import pandas as pd\n",
    "import telebot\n",
    "from telebot import types"
   ]
  },
  {
   "cell_type": "markdown",
   "metadata": {},
   "source": [
    "Подключение к таблице для создания датафрейма"
   ]
  },
  {
   "cell_type": "code",
   "execution_count": 2,
   "metadata": {},
   "outputs": [
    {
     "data": {
      "text/plain": [
       "array(['Социология', 'Экономика', 'ГМУ', ' Сервис', 'Статистика',\n",
       "       'Управление персоналом', 'Сервис'], dtype=object)"
      ]
     },
     "execution_count": 2,
     "metadata": {},
     "output_type": "execute_result"
    }
   ],
   "source": [
    "df_shedule = pd.read_excel('SheduleFESU.xlsx', header=0, usecols='A:I')\n",
    "df_shedule.loc[df_shedule[\"Profile\"] == ' Социология', \"Profile\"] = \"Социология\" #df = df.replace(to_replace=r'.*', value=new_value, regex=True)\n",
    "df_shedule.fillna(value='Окно', inplace=True)\n",
    "# display(df_shedule.isna().sum())\n",
    "df_shedule.Profile.unique()\n",
    "\n"
   ]
  },
  {
   "cell_type": "markdown",
   "metadata": {},
   "source": [
    "Проверка логики программы"
   ]
  },
  {
   "cell_type": "code",
   "execution_count": 172,
   "metadata": {},
   "outputs": [
    {
     "name": "stdout",
     "output_type": "stream",
     "text": [
      " у Вас пар нет\n"
     ]
    }
   ],
   "source": [
    "def get_text_messages( message_group = input('Enter num group: '), message_day = input('Enter num day: ') ): #message_course = input('Enter num course: '),\n",
    "    num_of_week_day = message_day.strip()\n",
    "    # num_of_course = message_course.strip()\n",
    "    num_of_group = message_group.strip()\n",
    "    subject = df_shedule.loc[(df_shedule['Num_Day'] == int(num_of_week_day)) & (df_shedule['Group'] == int(num_of_group)), 'Subject'].values\n",
    "    nm_lesson = df_shedule.loc[(df_shedule['Num_Day'] == int(num_of_week_day)) & (df_shedule['Group'] == int(num_of_group)), 'Num_Lesson'].values\n",
    "    # print(f'{num_of_course} {num_of_group} {num_of_week_day}')\n",
    "    \n",
    "    if len(subject) > 0:\n",
    "        i = 0\n",
    "        for sub in subject:\n",
    "            print(f\"{df_shedule[df_shedule['Num_Day'] == int(num_of_week_day)]['Day'].values[0]} Пара # {nm_lesson[i]} по дисциплине: {sub}\")\n",
    "            i += 1\n",
    "\n",
    "    else: \n",
    "        print(f' у Вас пар нет')\n",
    "\n",
    "\n",
    "get_text_messages()"
   ]
  },
  {
   "cell_type": "markdown",
   "metadata": {},
   "source": [
    "# Create bot Telegram"
   ]
  },
  {
   "cell_type": "code",
   "execution_count": 3,
   "metadata": {},
   "outputs": [],
   "source": [
    "# 1)Create bot 2)Give token 3)Task like Neyro 4) Add pandas 5)Thin abot Logic 1010)task server Heroku -> RSU\n",
    "load_dotenv()\n",
    "TOKEN_BOT = os.getenv('TOKEN_BOT') \n"
   ]
  },
  {
   "cell_type": "code",
   "execution_count": null,
   "metadata": {},
   "outputs": [],
   "source": [
    "# next(iter(user_data.values()))\n",
    "# first_key, first_value = next(iter(user_data.items()))\n",
    "# print(f\"Ключ: {first_key}, Значение: {first_value}\")"
   ]
  },
  {
   "cell_type": "markdown",
   "metadata": {},
   "source": [
    "Variant 3\n"
   ]
  },
  {
   "cell_type": "markdown",
   "metadata": {},
   "source": [
    "Работает с датафреймом но кнопки не нравятся"
   ]
  },
  {
   "cell_type": "code",
   "execution_count": 82,
   "metadata": {},
   "outputs": [],
   "source": [
    "univercity_df = pd.DataFrame(columns= ['course', \"group\", \"nm\"], data=[[1,9402, 25], [1,9403, 20], [2,9302,15]])\n",
    "univercity_df.loc[len(univercity_df)] = [2,9308,18]\n",
    "# univercity_df[univercity_df[\"course\"] == 2][\"group\"].values[0:][0]\n",
    "\n",
    "bot = telebot.TeleBot(TOKEN_BOT)\n",
    "\n",
    "user_state = {}  # Словарь для хранения состояния каждого пользователя\n",
    "\n",
    "@bot.message_handler(commands=['start']) # Функция для обработки команды /start\n",
    "def start_command(message):\n",
    "    user_id = message.from_user.id\n",
    "    user_state[user_id] = {}  # Инициализация состояния для нового пользователя\n",
    "    main_menu(message)\n",
    "\n",
    "# Основная клавиатура с выбором курса\n",
    "def main_menu(message):\n",
    "    keyboard = types.ReplyKeyboardMarkup(resize_keyboard=True, one_time_keyboard=True)\n",
    "    btn1 = types.KeyboardButton(\"Курс_1\") # текст для передачи в Message след функции  message.text\n",
    "    btn2 = types.KeyboardButton(\"Курс_2\")\n",
    "    keyboard.add(btn1, btn2)\n",
    "    bot.send_message(message.chat.id, \"Выберите курс:\", reply_markup=keyboard)\n",
    "\n",
    "# Подменю первой категории\n",
    "def submenu_category1(message):\n",
    "    nm_corse = message.text.split('_')[1]\n",
    "    keyboard = types.ReplyKeyboardMarkup(resize_keyboard=True, one_time_keyboard=True)\n",
    "    btn11 = types.KeyboardButton(f'Группа_{univercity_df[univercity_df[\"course\"] == int(nm_corse)][\"group\"].values[0:][0]}') # выводит кнопку с номером группы => передаем в след фнкц\n",
    "    btn12 = types.KeyboardButton(f'Группа_{univercity_df[univercity_df[\"course\"] == int(nm_corse)][\"group\"].values[0:][1]}')\n",
    "    # list_btns = []\n",
    "    keyboard.add(btn11, btn12)\n",
    "    bot.send_message(message.chat.id, \"Выберите группу:\", reply_markup=keyboard)\n",
    "\n",
    "# Подменю второй категории\n",
    "def submenu_category2(message):\n",
    "    keyboard = types.ReplyKeyboardMarkup(resize_keyboard=True, one_time_keyboard=True)\n",
    "    btn21 = types.KeyboardButton(\"Опция 2.1\")\n",
    "    btn22 = types.KeyboardButton(\"Опция 2.2\")\n",
    "    keyboard.add(btn21, btn22)\n",
    "    bot.send_message(message.chat.id, \"Выберите опцию:\", reply_markup=keyboard)\n",
    "\n",
    "# Обработчик всех входящих сообщений\n",
    "@bot.message_handler(func=lambda message: True)\n",
    "def process_message(message):\n",
    "    user_id = message.from_user.id\n",
    "    state = user_state.get(user_id, {})\n",
    "\n",
    "    if not state:  # Если состояние пустое, значит, пользователь еще ничего не выбрал\n",
    "        if message.text != \"\":\n",
    "            state['course'] = message.text\n",
    "            submenu_category1(message)\n",
    "        # elif message.text == \"Курс_2\":\n",
    "        #     state['coruse'] = \"Курс_2\"\n",
    "        #     submenu_category1(message) # maybe 2 return\n",
    "        else:\n",
    "            bot.reply_to(message, \"Пожалуйста, выберите курс.\")\n",
    "    else:\n",
    "        # Состояние уже установлено, значит, пользователь выбирает опции внутри выбранной категории\n",
    "        category = state['course']\n",
    "        if message.text != \"\":\n",
    "                state['group'] = message.text\n",
    "                nm_grp = message.text.split('_')[1]\n",
    "                bot.reply_to(message, f'''Ваш курс: {state['course']}, Ваша группа: {state['group']}! \\n \n",
    "                            Численность группы {univercity_df[univercity_df['group'] == int(nm_grp)]['nm'].values[0:][0]}''')\n",
    "        else:\n",
    "                bot.reply_to(message, \"Пожалуйста, выберите одну из опций.\")\n",
    "\n",
    "bot.polling()"
   ]
  },
  {
   "cell_type": "markdown",
   "metadata": {},
   "source": [
    "В продакшн"
   ]
  },
  {
   "cell_type": "code",
   "execution_count": 76,
   "metadata": {},
   "outputs": [],
   "source": [
    "bot = telebot.TeleBot(TOKEN_BOT)\n",
    "user_state = {}  # Словарь для хранения состояния каждого пользователя\n",
    "\n",
    "@bot.message_handler(commands=['start'])\n",
    "def start_command(message):\n",
    "    user_id = message.from_user.id\n",
    "    user_state[user_id] = {}  # инициализация состояния\n",
    "    user_state[user_id]['name'] = message.from_user.first_name\n",
    "    name = user_state[user_id]['name']\n",
    "    show_main_menu(message.chat.id, name)\n",
    "    # print(bot.get_webhook_info())\n",
    "\n",
    "def show_main_menu(chat_id, name):\n",
    "    keyboard = types.InlineKeyboardMarkup(row_width=2)\n",
    "    btn1 = types.InlineKeyboardButton(\"Курс_1\", callback_data=\"course_1\")\n",
    "    btn2 = types.InlineKeyboardButton(\"Курс_2\", callback_data=\"course_2\")\n",
    "    btn3 = types.InlineKeyboardButton(\"Курс_3\", callback_data=\"course_3\")\n",
    "    btn4 = types.InlineKeyboardButton(\"Курс_4\", callback_data=\"course_4\")\n",
    "\n",
    "    keyboard.add(btn1, btn2, btn3, btn4)\n",
    "    bot.send_message(chat_id, f'''Привет! {name} выбери курс ''', reply_markup=keyboard)\n",
    "\n",
    "def show_submenu_group(chat_id, course_number):    # получаем список групп для курса\n",
    "    groups = list(df_shedule[df_shedule[\"Courses\"] == int(course_number)][\"Group\"].unique()) \n",
    "    keyboard = types.InlineKeyboardMarkup(row_width=2)\n",
    "    for grp in groups[:]: \n",
    "        btn = types.InlineKeyboardButton(f\"Группа_{grp}\", callback_data=f\"group_{grp}\")\n",
    "        keyboard.add(btn)\n",
    "    bot.send_message(chat_id, \"Выберите группу:\", reply_markup=keyboard)\n",
    "\n",
    "def show_submenu_day(chat_id, group_number):\n",
    "    name_days = pd.DataFrame({\"1\": [\"Понедельник\"], \"2\": [\"Вторник\"], \"3\": [\"Среда\"], \"4\": [\"Четверг\"], \n",
    "                                  \"5\": [\"Пятница\"], \"6\": [\"Суббота\"],  \"7\": [\"Воскресенье\"]}) #, index=range(7))\n",
    "    name_days = name_days.stack().reset_index(drop=True)\n",
    "    keyboard = types.InlineKeyboardMarkup(row_width=2)\n",
    "    i = 1\n",
    "    for day in name_days: \n",
    "        btn = types.InlineKeyboardButton(f\"{day}\", callback_data=f\"day_{i}\")\n",
    "        i += 1\n",
    "        keyboard.add(btn)\n",
    "    bot.send_message(chat_id, \"Выберите день:\", reply_markup=keyboard)\n",
    "\n",
    "@bot.callback_query_handler(func=lambda call: call.data.startswith(('course_', 'group_', 'day_')))\n",
    "def callback_query(call):\n",
    "    user_id = call.from_user.id\n",
    "    data = call.data  # например, \"course_1\" или \"group_101\"\n",
    "       \n",
    "    if data.startswith(\"course_\"):  # если выбираем курс\n",
    "        course_number = data.split(\"_\")[1]\n",
    "        user_state[user_id]['course'] = f\"Курс_{course_number}\"  # отправляем подменю групп\n",
    "        show_submenu_group(call.message.chat.id, course_number)\n",
    "        bot.answer_callback_query(call.id)  # убираем \"часики\" на кнопке\n",
    "   \n",
    "    elif data.startswith(\"group_\"):  # если выбираем группу\n",
    "        group_number = data.split(\"_\")[1]\n",
    "        user_state[user_id]['group'] = f\"Группа_{group_number}\"\n",
    "        user_state[user_id]['group_nm'] = group_number\n",
    "        show_submenu_day(call.message.chat.id, group_number)\n",
    "\n",
    "    elif data.startswith(\"day_\"):  # если выбираем день\n",
    "        day_number = data.split(\"_\")[1]\n",
    "        user_state[user_id]['day'] = f\"День_{day_number}\"  # отправляем подменю групп\n",
    "        state = user_state[user_id]\n",
    "        responses = df_shedule[(df_shedule['Group'] == int(state[\"group_nm\"])) & (df_shedule['Num_Day'] == int(day_number))][[\"Num_Lesson\" ,'Subject']].values\n",
    "        for res in responses:\n",
    "            response = f' Пара №{str(res[0:1])[1:-1]}: {str(res[1:2])[2:-2]}'\n",
    "            bot.send_message(call.message.chat.id, response)\n",
    "bot.polling()\n",
    "\n"
   ]
  },
  {
   "cell_type": "code",
   "execution_count": 6,
   "metadata": {},
   "outputs": [
    {
     "name": "stderr",
     "output_type": "stream",
     "text": [
      "C:\\Users\\aigna\\AppData\\Local\\Temp\\ipykernel_21552\\1035348208.py:2: FutureWarning: A value is trying to be set on a copy of a DataFrame or Series through chained assignment using an inplace method.\n",
      "The behavior will change in pandas 3.0. This inplace method will never work because the intermediate object on which we are setting values always behaves as a copy.\n",
      "\n",
      "For example, when doing 'df[col].method(value, inplace=True)', try using 'df.method({col: value}, inplace=True)' or df[col] = df[col].method(value) instead, to perform the operation inplace on the original object.\n",
      "\n",
      "\n",
      "  df_shedule['Logo'].fillna(value=\"NoLogo\", inplace=True)\n"
     ]
    },
    {
     "data": {
      "text/plain": [
       "400"
      ]
     },
     "execution_count": 6,
     "metadata": {},
     "output_type": "execute_result"
    }
   ],
   "source": [
    "df_shedule = pd.read_csv('SheduleFESU.csv', sep=\";\" )\n",
    "df_shedule['Logo'].fillna(value=\"NoLogo\", inplace=True)\n",
    "df_shedule.shape[0] #['Logo'].isna().sum()\n"
   ]
  },
  {
   "cell_type": "markdown",
   "metadata": {},
   "source": [
    "Чтобы изменить режим работы вашего Telegram-бота с опроса (polling) на вебхуки (webhooks), нужно выполнить несколько шагов. Вот пошаговая инструкция:\n",
    "1. Настройте веб-сервер: Вам потребуется сервер с доступом по HTTPS, чтобы Telegram мог отправлять обновления на ваш сервер. Часто используются такие сервисы, как Heroku, DigitalOcean или облачные функции.\n",
    "2. Получите SSL-сертификат: Ваш сервер должен поддерживать HTTPS. Для этого можно использовать бесплатные решения, такие как Let's Encrypt.\n",
    "3. Настройте вебхук: Используйте метод setWebhook Telegram API для установки вебхука. Это можно сделать с помощью HTTP-запроса. Примерный запрос выглядит так:\n",
    "https://api.telegram.org/botВАШ_ТОКЕН_БОТА/setWebhook?url=ВАШ_URL_ВЕБХУКА\n",
    "\n",
    "6911877132:AAGi1Ljjo3whs4dAQm12pqmDwUd1aJVCEHg\n",
    "https://shedulebotrsu-a-ignatov.amvera.io\n",
    "https://api.telegram.org/bot6911877132:AAGi1Ljjo3whs4dAQm12pqmDwUd1aJVCEHg/setWebhook?url=https://shedulebotrsu-a-ignatov.amvera.io\n",
    "\n",
    "Замените ВАШ_ТОКЕН_БОТА на токен бота, а ВАШ_URL_ВЕБХУКА на URL вашего HTTPS сервера."
   ]
  },
  {
   "cell_type": "code",
   "execution_count": 21,
   "metadata": {},
   "outputs": [
    {
     "name": "stdout",
     "output_type": "stream",
     "text": [
      "Вебхук отключен. Бот готов к работе в режиме опроса.\n"
     ]
    }
   ],
   "source": [
    "# import telebot\n",
    "# \n",
    "bot = telebot.TeleBot(\"6911877132:AAGi1Ljjo3whs4dAQm12pqmDwUd1aJVCEHg\")\n",
    "\n",
    "# Удаление вебхука\n",
    "bot.delete_webhook()\n",
    "\n",
    "print(\"Вебхук отключен. Бот готов к работе в режиме опроса.\")"
   ]
  }
 ],
 "metadata": {
  "kernelspec": {
   "display_name": "Python 3",
   "language": "python",
   "name": "python3"
  },
  "language_info": {
   "codemirror_mode": {
    "name": "ipython",
    "version": 3
   },
   "file_extension": ".py",
   "mimetype": "text/x-python",
   "name": "python",
   "nbconvert_exporter": "python",
   "pygments_lexer": "ipython3",
   "version": "3.11.3"
  }
 },
 "nbformat": 4,
 "nbformat_minor": 2
}
