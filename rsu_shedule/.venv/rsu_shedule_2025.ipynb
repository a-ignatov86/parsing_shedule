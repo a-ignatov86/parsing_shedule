{
 "cells": [
  {
   "cell_type": "markdown",
   "metadata": {},
   "source": [
    "Импорт библиотек"
   ]
  },
  {
   "cell_type": "code",
   "execution_count": 1,
   "metadata": {},
   "outputs": [],
   "source": [
    "import os\n",
    "from dotenv import load_dotenv\n",
    "import pandas as pd\n",
    "import telebot\n",
    "from telebot import types"
   ]
  },
  {
   "cell_type": "markdown",
   "metadata": {},
   "source": [
    "Подключение к таблице для создания датафрейма"
   ]
  },
  {
   "cell_type": "code",
   "execution_count": 2,
   "metadata": {},
   "outputs": [
    {
     "data": {
      "text/plain": [
       "Courses       0\n",
       "Profile       0\n",
       "Group         0\n",
       "Num_Day       0\n",
       "Day           0\n",
       "Num_Lesson    0\n",
       "Subject       0\n",
       "Room          0\n",
       "Week          0\n",
       "Logo          0\n",
       "dtype: int64"
      ]
     },
     "metadata": {},
     "output_type": "display_data"
    }
   ],
   "source": [
    "df_shedule = pd.read_excel('..\\SheduleFESU.xlsx', header=0, usecols='A:J')\n",
    "# df_shedule.loc[df_shedule[\"Profile\"] == ' Социология', \"Profile\"] = \"Социология\" #df = df.replace(to_replace=r'.*', value=new_value, regex=True)\n",
    "df_shedule.fillna(value='Окно', inplace=True)\n",
    "display(df_shedule.isna().sum())\n"
   ]
  },
  {
   "cell_type": "code",
   "execution_count": 3,
   "metadata": {},
   "outputs": [
    {
     "data": {
      "text/plain": [
       "array(['Иностранный язык ', 'Культурология', 'Основы социологии', 'ИКТ'],\n",
       "      dtype=object)"
      ]
     },
     "execution_count": 3,
     "metadata": {},
     "output_type": "execute_result"
    }
   ],
   "source": [
    "group_names = df_shedule['Group'].unique()\n",
    "len(group_names)\n",
    "logo = \"https://img.icons8.com/?size=100&id=EVWPoM8ohVl2&format=png&color=000000\"\n",
    "\n",
    "nm_lesson = df_shedule.loc[df_shedule['Num_Day'] == 2, 'Num_Lesson'].values\n",
    "nm_lesson\n",
    "subject = df_shedule.loc[(df_shedule['Num_Day'] == int(1)) & (df_shedule['Group'] == int(9409)), 'Subject'].values\n",
    "subject"
   ]
  },
  {
   "cell_type": "code",
   "execution_count": 4,
   "metadata": {},
   "outputs": [
    {
     "data": {
      "text/plain": [
       "0    Понедельник\n",
       "1       Вториник\n",
       "2          Среда\n",
       "3        Четверг\n",
       "4        Пятница\n",
       "5        Суббота\n",
       "6    Воскресенье\n",
       "dtype: object"
      ]
     },
     "execution_count": 4,
     "metadata": {},
     "output_type": "execute_result"
    }
   ],
   "source": [
    "name_days = pd.DataFrame({\n",
    "        \"1\": [\"Понедельник\"],\n",
    "        \"2\": [\"Вториник\"],\n",
    "        \"3\": [\"Среда\"],\n",
    "        \"4\": [\"Четверг\"],\n",
    "        \"5\": [\"Пятница\"],\n",
    "        \"6\": [\"Суббота\"],\n",
    "        \"7\": [\"Воскресенье\"]}) #, index=range(7))\n",
    "\n",
    "name_days = name_days.stack().reset_index(drop=True)\n",
    "name_days"
   ]
  },
  {
   "cell_type": "markdown",
   "metadata": {},
   "source": [
    "Проверка логики программы"
   ]
  },
  {
   "cell_type": "code",
   "execution_count": 5,
   "metadata": {},
   "outputs": [
    {
     "name": "stdout",
     "output_type": "stream",
     "text": [
      "В Понедельник у Вас пар нет\n"
     ]
    }
   ],
   "source": [
    "def get_text_messages( message_group = input('Enter num group: '), message_day = input('Enter num day: ') ): #message_course = input('Enter num course: '),\n",
    "    num_of_week_day = message_day.strip()\n",
    "    # num_of_course = message_course.strip()\n",
    "    num_of_group = message_group.strip()\n",
    "    subject = df_shedule.loc[(df_shedule['Num_Day'] == int(num_of_week_day)) & (df_shedule['Group'] == int(num_of_group)), 'Subject'].values\n",
    "    nm_lesson = df_shedule.loc[(df_shedule['Num_Day'] == int(num_of_week_day)) & (df_shedule['Group'] == int(num_of_group)), 'Num_Lesson'].values\n",
    "    # print(f'{num_of_course} {num_of_group} {num_of_week_day}')\n",
    "    \n",
    "    if len(subject) > 0:\n",
    "        i = 0\n",
    "        for sub in subject:\n",
    "            print(f\"{df_shedule[df_shedule['Num_Day'] == int(num_of_week_day)]['Day'].values[0]} Пара # {nm_lesson[i]} по дисциплине: {sub}\")\n",
    "            i += 1\n",
    "\n",
    "    else: \n",
    "        print(f'В {[name_days[int(num_of_week_day)- 1]][0]} у Вас пар нет')\n",
    "\n",
    "\n",
    "get_text_messages()"
   ]
  },
  {
   "cell_type": "markdown",
   "metadata": {},
   "source": [
    "# Create bot Telegram"
   ]
  },
  {
   "cell_type": "code",
   "execution_count": 6,
   "metadata": {},
   "outputs": [],
   "source": [
    "# 1)Create bot 2)Give token 3)Task like Neyro 4) Add pandas 5)Thin abot Logic 1010)task server Heroku -> RSU\n",
    "load_dotenv()\n",
    "TOKEN_BOT_RSU = os.getenv('TOKEN_BOT_RSU') \n"
   ]
  },
  {
   "cell_type": "code",
   "execution_count": null,
   "metadata": {},
   "outputs": [],
   "source": [
    "bot = telebot.TeleBot(TOKEN_BOT_RSU)\n",
    "@bot.message_handler(commands=['start'])  #, 'help'\n",
    "def handle_start(message):\n",
    "    mess = f'Привет!, <b> {message.from_user.first_name} <u>{message.from_user.last_name}</u> </b>'\n",
    "    bot.send_message(message.chat.id, mess, parse_mode = 'html' )\n",
    "\n",
    "# @bot.message_handler()  # All message or text\n",
    "# def handle_start(message):\n",
    "#     if message.text.upper().lower() == \"Привет\":\n",
    "#         bot.send_message(message.chat.id, f\"И тебе привет {message.from_user.first_name}\", parse_mode = 'html' )\n",
    "#     elif message.text == \"id\":\n",
    "#         bot.send_message(message.chat.id, f\"Твой ID {message.from_user.id}\", parse_mode = 'html' )\n",
    "#     elif message.text == 'img':\n",
    "#         photo = open(\"image_fx_ (BI).jpg\", 'rb')\n",
    "#         bot.send_photo(message.chat.id, photo=photo)\n",
    "#     else:\n",
    "#         bot.send_message(message.chat.id, f\"Извини - не понимаю\", parse_mode = 'html' )\n",
    "\n",
    "\n",
    "# @bot.message_handler(content_types = ['photo'])\n",
    "# def get_user_photo(message):\n",
    "#     bot.send_message(message.chat.id, \"Вы прислали картинку, а я ожидаю текст\")\n",
    "\n",
    "# @bot.message_handler(commands=['website']) # кнопка с ссылкой на сайт\n",
    "# def website(message): # Для кнопок\n",
    "#     markup = types.InlineKeyboardMarkup()\n",
    "#     markup.add(types.InlineKeyboardButton(\"Перейти на сайт\", url=\"ya.ru\"))\n",
    "#     bot.send_message(message.chat.id, f\"Твой ID {message.from_user.id} переходи\", reply_markup=markup)\n",
    "\n",
    "\n",
    "# Функция для обработки команды /help\n",
    "@bot.message_handler(commands=['help'])\n",
    "def welcome(message): # Для кнопок внутри меню\n",
    "    markup = types.ReplyKeyboardMarkup(resize_keyboard=True, row_width=4, one_time_keyboard=True) # Добавление адаптивных кнопок\n",
    "    First = types.KeyboardButton('Первый')\n",
    "    Second = types.KeyboardButton('Второй')\n",
    "    Third = types.KeyboardButton('Третий')\n",
    "    Fourth = types.KeyboardButton('Четветрый')\n",
    "    markup.add(First, Second, Third, Fourth)\n",
    "\n",
    "    bot.send_message(message.chat.id, f\"Привет {message.from_user.first_name}, выбери курс\", reply_markup=markup)\n",
    "\n",
    "# Обработка нажатий кнопок\n",
    "@bot.message_handler(func=lambda message: True)\n",
    "def handle_message(message):\n",
    "    if message.text == 'Первый':\n",
    "        bot.reply_to(message, \"Вы выбрали первый вариант.\")\n",
    "    elif message.text == 'Второй':\n",
    "        bot.reply_to(message, \"Вы выбрали второй вариант.\")\n",
    "    else:\n",
    "        markup = types.ReplyKeyboardMarkup(resize_keyboard=True, row_width=4, one_time_keyboard=True)\n",
    "        Three = types.KeyboardButton('Третий2')\n",
    "        Four = types.KeyboardButton('Четветрый2') \n",
    "        bot.reply_to(message, )\n",
    "\n",
    "\n",
    "    # @bot.message_handler(content_types = ['text'])\n",
    "    # def get_text_messages(message_group = input('Enter num group: '), message_day = input('Enter num day: ') ): #message_course = input('Enter num course: '),\n",
    "    #     num_of_week_day = message_day.strip()\n",
    "    #     # num_of_course = message_course.strip()\n",
    "    #     num_of_group = message_group.strip()\n",
    "    #     subject = df_shedule.loc[(df_shedule['Num_Day'] == int(num_of_week_day)) & (df_shedule['Group'] == int(num_of_group)), 'Subject'].values\n",
    "    #     nm_lesson = df_shedule.loc[(df_shedule['Num_Day'] == int(num_of_week_day)) & (df_shedule['Group'] == int(num_of_group)), 'Num_Lesson'].values\n",
    "    #     # print(f'{num_of_course} {num_of_group} {num_of_week_day}')\n",
    "        \n",
    "    #     if len(subject) > 0:\n",
    "    #         i = 0\n",
    "    #         for sub in subject:\n",
    "    #             print(f\"{df_shedule[df_shedule['Num_Day'] == int(num_of_week_day)]['Day'].values[0]} Пара # {nm_lesson[i]} по дисциплине: {sub}\")\n",
    "    #             i += 1\n",
    "\n",
    "    #     else: \n",
    "    #         print(f'В {[name_days[int(num_of_week_day)- 1]][0]} у Вас пар нет')\n",
    "\n",
    "\n",
    "    # get_text_messages()\n",
    "\n",
    "bot.polling(none_stop = True, interval = 0)"
   ]
  },
  {
   "cell_type": "markdown",
   "metadata": {},
   "source": [
    "variant two\n"
   ]
  },
  {
   "cell_type": "code",
   "execution_count": null,
   "metadata": {},
   "outputs": [],
   "source": [
    "bot = telebot.TeleBot(TOKEN_BOT_RSU) # Задаем бот\n",
    "# @bot.message_handler(commands=['start'])  #, 'help'\n",
    "# def handle_start(message):\n",
    "#     mess = f'Привет!, <b> {message.from_user.first_name} <u>{message.from_user.last_name}</u> </b>'\n",
    "#     bot.send_message(message.chat.id, mess, parse_mode = 'html' )\n",
    "\n",
    "@bot.message_handler(commands=['start'])\n",
    "def welcome(message): # Для кнопок внутри меню\n",
    "    markup = types.ReplyKeyboardMarkup(resize_keyboard=True, row_width=4, one_time_keyboard=True) # Добавление адаптивных кнопок\n",
    "    First = types.KeyboardButton('Первый')\n",
    "    Second = types.KeyboardButton('Второй')\n",
    "    Third = types.KeyboardButton('Третий')\n",
    "    Fourth = types.KeyboardButton('Четветрый')\n",
    "    markup.add(First, Second, Third, Fourth)\n",
    "\n",
    "    bot.send_message(message.chat.id, f\"Привет {message.from_user.first_name}, выбери курс\", reply_markup=markup)\n",
    "\n",
    "# Обработка нажатий кнопок\n",
    "@bot.message_handler(func=lambda message: True)\n",
    "def handle_message(message):\n",
    "    if message.text == 'Первый':\n",
    "        bot.reply_to(message, \"Вы выбрали первый вариант.\")\n",
    "    elif message.text == 'Второй':\n",
    "        bot.reply_to(message, \"Вы выбрали второй вариант.\")\n",
    "    else:\n",
    "        bot.reply_to(message, \"В34\")\n",
    "\n",
    "\n",
    "# Первая группа вложенных кнопок\n",
    "def first_level_choice(message):\n",
    "    markup = types.ReplyKeyboardMarkup(resize_keyboard=True,row_width=2, one_time_keyboard=True)\n",
    "    btn_suboption11 = types.KeyboardButton('Подвариант 1.1')\n",
    "    btn_suboption12 = types.KeyboardButton('Подвариант 1.2')\n",
    "    markup.add(btn_suboption11, btn_suboption12)\n",
    "    \n",
    "    bot.send_message(message.chat.id, \"Вы выбрали Первый вариант. Теперь выберите подвариант:\", reply_markup=markup)\n",
    "\n",
    "bot.polling(none_stop = True, interval = 0)"
   ]
  }
 ],
 "metadata": {
  "kernelspec": {
   "display_name": "Python 3",
   "language": "python",
   "name": "python3"
  },
  "language_info": {
   "codemirror_mode": {
    "name": "ipython",
    "version": 3
   },
   "file_extension": ".py",
   "mimetype": "text/x-python",
   "name": "python",
   "nbconvert_exporter": "python",
   "pygments_lexer": "ipython3",
   "version": "3.11.3"
  }
 },
 "nbformat": 4,
 "nbformat_minor": 2
}
