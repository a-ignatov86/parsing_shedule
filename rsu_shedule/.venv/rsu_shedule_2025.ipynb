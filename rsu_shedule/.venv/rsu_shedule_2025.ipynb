{
 "cells": [
  {
   "cell_type": "markdown",
   "metadata": {},
   "source": [
    "Импорт библиотек"
   ]
  },
  {
   "cell_type": "code",
   "execution_count": 1,
   "metadata": {},
   "outputs": [],
   "source": [
    "import os\n",
    "from dotenv import load_dotenv\n",
    "import pandas as pd\n",
    "import telebot\n",
    "from telebot import types"
   ]
  },
  {
   "cell_type": "markdown",
   "metadata": {},
   "source": [
    "Подключение к таблице для создания датафрейма"
   ]
  },
  {
   "cell_type": "code",
   "execution_count": 2,
   "metadata": {},
   "outputs": [
    {
     "data": {
      "text/plain": [
       "Courses       0\n",
       "Profile       0\n",
       "Group         0\n",
       "Num_Day       0\n",
       "Day           0\n",
       "Num_Lesson    0\n",
       "Subject       0\n",
       "Room          0\n",
       "Week          0\n",
       "Logo          0\n",
       "dtype: int64"
      ]
     },
     "metadata": {},
     "output_type": "display_data"
    }
   ],
   "source": [
    "df_shedule = pd.read_excel('..\\SheduleFESU.xlsx', header=0, usecols='A:J')\n",
    "# df_shedule.loc[df_shedule[\"Profile\"] == ' Социология', \"Profile\"] = \"Социология\" #df = df.replace(to_replace=r'.*', value=new_value, regex=True)\n",
    "df_shedule.fillna(value='Окно', inplace=True)\n",
    "display(df_shedule.isna().sum())\n"
   ]
  },
  {
   "cell_type": "code",
   "execution_count": 3,
   "metadata": {},
   "outputs": [
    {
     "data": {
      "text/plain": [
       "array(['Иностранный язык ', 'Культурология', 'Основы социологии', 'ИКТ'],\n",
       "      dtype=object)"
      ]
     },
     "execution_count": 3,
     "metadata": {},
     "output_type": "execute_result"
    }
   ],
   "source": [
    "group_names = df_shedule['Group'].unique()\n",
    "len(group_names)\n",
    "logo = \"https://img.icons8.com/?size=100&id=EVWPoM8ohVl2&format=png&color=000000\"\n",
    "\n",
    "nm_lesson = df_shedule.loc[df_shedule['Num_Day'] == 2, 'Num_Lesson'].values\n",
    "nm_lesson\n",
    "subject = df_shedule.loc[(df_shedule['Num_Day'] == int(1)) & (df_shedule['Group'] == int(9409)), 'Subject'].values\n",
    "subject"
   ]
  },
  {
   "cell_type": "code",
   "execution_count": 4,
   "metadata": {},
   "outputs": [
    {
     "data": {
      "text/plain": [
       "0    Понедельник\n",
       "1       Вториник\n",
       "2          Среда\n",
       "3        Четверг\n",
       "4        Пятница\n",
       "5        Суббота\n",
       "6    Воскресенье\n",
       "dtype: object"
      ]
     },
     "execution_count": 4,
     "metadata": {},
     "output_type": "execute_result"
    }
   ],
   "source": [
    "name_days = pd.DataFrame({\n",
    "        \"1\": [\"Понедельник\"],\n",
    "        \"2\": [\"Вториник\"],\n",
    "        \"3\": [\"Среда\"],\n",
    "        \"4\": [\"Четверг\"],\n",
    "        \"5\": [\"Пятница\"],\n",
    "        \"6\": [\"Суббота\"],\n",
    "        \"7\": [\"Воскресенье\"]}) #, index=range(7))\n",
    "\n",
    "name_days = name_days.stack().reset_index(drop=True)\n",
    "name_days"
   ]
  },
  {
   "cell_type": "markdown",
   "metadata": {},
   "source": [
    "Проверка логики программы"
   ]
  },
  {
   "cell_type": "code",
   "execution_count": 5,
   "metadata": {},
   "outputs": [
    {
     "name": "stdout",
     "output_type": "stream",
     "text": [
      "В Понедельник у Вас пар нет\n"
     ]
    }
   ],
   "source": [
    "def get_text_messages( message_group = input('Enter num group: '), message_day = input('Enter num day: ') ): #message_course = input('Enter num course: '),\n",
    "    num_of_week_day = message_day.strip()\n",
    "    # num_of_course = message_course.strip()\n",
    "    num_of_group = message_group.strip()\n",
    "    subject = df_shedule.loc[(df_shedule['Num_Day'] == int(num_of_week_day)) & (df_shedule['Group'] == int(num_of_group)), 'Subject'].values\n",
    "    nm_lesson = df_shedule.loc[(df_shedule['Num_Day'] == int(num_of_week_day)) & (df_shedule['Group'] == int(num_of_group)), 'Num_Lesson'].values\n",
    "    # print(f'{num_of_course} {num_of_group} {num_of_week_day}')\n",
    "    \n",
    "    if len(subject) > 0:\n",
    "        i = 0\n",
    "        for sub in subject:\n",
    "            print(f\"{df_shedule[df_shedule['Num_Day'] == int(num_of_week_day)]['Day'].values[0]} Пара # {nm_lesson[i]} по дисциплине: {sub}\")\n",
    "            i += 1\n",
    "\n",
    "    else: \n",
    "        print(f'В {[name_days[int(num_of_week_day)- 1]][0]} у Вас пар нет')\n",
    "\n",
    "\n",
    "get_text_messages()"
   ]
  },
  {
   "cell_type": "markdown",
   "metadata": {},
   "source": [
    "# Create bot Telegram"
   ]
  },
  {
   "cell_type": "code",
   "execution_count": 2,
   "metadata": {},
   "outputs": [],
   "source": [
    "# 1)Create bot 2)Give token 3)Task like Neyro 4) Add pandas 5)Thin abot Logic 1010)task server Heroku -> RSU\n",
    "load_dotenv()\n",
    "TOKEN_BOT_RSU = os.getenv('TOKEN_BOT_RSU') \n"
   ]
  },
  {
   "cell_type": "code",
   "execution_count": null,
   "metadata": {},
   "outputs": [],
   "source": [
    " "
   ]
  },
  {
   "cell_type": "code",
   "execution_count": null,
   "metadata": {},
   "outputs": [],
   "source": [
    "# next(iter(user_data.values()))\n",
    "# first_key, first_value = next(iter(user_data.items()))\n",
    "# print(f\"Ключ: {first_key}, Значение: {first_value}\")\n",
    "\n"
   ]
  },
  {
   "cell_type": "markdown",
   "metadata": {},
   "source": [
    "Variant 3\n"
   ]
  },
  {
   "cell_type": "markdown",
   "metadata": {},
   "source": [
    "Работает с датафреймом но кнопки не нравятся"
   ]
  },
  {
   "cell_type": "code",
   "execution_count": null,
   "metadata": {},
   "outputs": [],
   "source": [
    "univercity_df = pd.DataFrame(columns= ['course', \"group\", \"nm\"], data=[[1,9402, 25], [1,9403, 20], [2,9302,15]])\n",
    "univercity_df.loc[len(univercity_df)] = [2,9308,18]\n",
    "# univercity_df[univercity_df[\"course\"] == 2][\"group\"].values[0:][0]\n",
    "\n",
    "bot = telebot.TeleBot(TOKEN_BOT_RSU)\n",
    "\n",
    "user_state = {}  # Словарь для хранения состояния каждого пользователя\n",
    "\n",
    "@bot.message_handler(commands=['start']) # Функция для обработки команды /start\n",
    "def start_command(message):\n",
    "    user_id = message.from_user.id\n",
    "    user_state[user_id] = {}  # Инициализация состояния для нового пользователя\n",
    "    main_menu(message)\n",
    "\n",
    "# Основная клавиатура с выбором курса\n",
    "def main_menu(message):\n",
    "    keyboard = types.ReplyKeyboardMarkup(resize_keyboard=True, one_time_keyboard=True)\n",
    "    btn1 = types.KeyboardButton(\"Курс_1\") # текст для передачи в Message след функции  message.text\n",
    "    btn2 = types.KeyboardButton(\"Курс_2\")\n",
    "    keyboard.add(btn1, btn2)\n",
    "    bot.send_message(message.chat.id, \"Выберите курс:\", reply_markup=keyboard)\n",
    "\n",
    "# Подменю первой категории\n",
    "def submenu_category1(message):\n",
    "    nm_corse = message.text.split('_')[1]\n",
    "    keyboard = types.ReplyKeyboardMarkup(resize_keyboard=True, one_time_keyboard=True)\n",
    "    btn11 = types.KeyboardButton(f'Группа_{univercity_df[univercity_df[\"course\"] == int(nm_corse)][\"group\"].values[0:][0]}') # выводит кнопку с номером группы => передаем в след фнкц\n",
    "    btn12 = types.KeyboardButton(f'Группа_{univercity_df[univercity_df[\"course\"] == int(nm_corse)][\"group\"].values[0:][1]}')\n",
    "    # list_btns = []\n",
    "    keyboard.add(btn11, btn12)\n",
    "    bot.send_message(message.chat.id, \"Выберите группу:\", reply_markup=keyboard)\n",
    "\n",
    "# Подменю второй категории\n",
    "def submenu_category2(message):\n",
    "    keyboard = types.ReplyKeyboardMarkup(resize_keyboard=True, one_time_keyboard=True)\n",
    "    btn21 = types.KeyboardButton(\"Опция 2.1\")\n",
    "    btn22 = types.KeyboardButton(\"Опция 2.2\")\n",
    "    keyboard.add(btn21, btn22)\n",
    "    bot.send_message(message.chat.id, \"Выберите опцию:\", reply_markup=keyboard)\n",
    "\n",
    "# Обработчик всех входящих сообщений\n",
    "@bot.message_handler(func=lambda message: True)\n",
    "def process_message(message):\n",
    "    user_id = message.from_user.id\n",
    "    state = user_state.get(user_id, {})\n",
    "\n",
    "    if not state:  # Если состояние пустое, значит, пользователь еще ничего не выбрал\n",
    "        if message.text != \"\":\n",
    "            state['coruse'] = message.text\n",
    "            submenu_category1(message)\n",
    "        # elif message.text == \"Курс_2\":\n",
    "        #     state['coruse'] = \"Курс_2\"\n",
    "        #     submenu_category1(message) # maybe 2 return\n",
    "        else:\n",
    "            bot.reply_to(message, \"Пожалуйста, выберите курс.\")\n",
    "    else:\n",
    "        # Состояние уже установлено, значит, пользователь выбирает опции внутри выбранной категории\n",
    "        category = state['coruse']\n",
    "        if message.text != \"\":\n",
    "                state['group'] = message.text\n",
    "                nm_grp = message.text.split('_')[1]\n",
    "                bot.reply_to(message, f'''Ваш курс: {state['coruse']}, Ваша группа: {state['group']}! \\n \n",
    "                            Численность группы {univercity_df[univercity_df['group'] == int(nm_grp)]['nm'].values[0:][0]}''')\n",
    "        else:\n",
    "                bot.reply_to(message, \"Пожалуйста, выберите одну из опций.\")\n",
    "\n",
    "bot.polling()"
   ]
  },
  {
   "cell_type": "markdown",
   "metadata": {},
   "source": [
    "В продакшн"
   ]
  },
  {
   "cell_type": "code",
   "execution_count": null,
   "metadata": {},
   "outputs": [],
   "source": [
    "bot = telebot.TeleBot(TOKEN_BOT_RSU)\n",
    "user_state = {}  # Словарь для хранения состояния каждого пользователя\n",
    "\n",
    "@bot.message_handler(commands=['start'])\n",
    "def start_command(message):\n",
    "    user_id = message.from_user.id\n",
    "    user_state[user_id] = {}  # инициализация состояния\n",
    "    user_state[user_id]['name'] = message.from_user.first_name\n",
    "    name = user_state[user_id]['name']\n",
    "    show_main_menu(message.chat.id, name)\n",
    "\n",
    "def show_main_menu(chat_id, name):\n",
    "    keyboard = types.InlineKeyboardMarkup(row_width=2)\n",
    "    btn1 = types.InlineKeyboardButton(\"Курс_1\", callback_data=\"course_1\")\n",
    "    btn2 = types.InlineKeyboardButton(\"Курс_2\", callback_data=\"course_2\")\n",
    "    btn3 = types.InlineKeyboardButton(\"Курс_3\", callback_data=\"course_3\")\n",
    "    btn4 = types.InlineKeyboardButton(\"Курс_4\", callback_data=\"course_4\")\n",
    "    keyboard.add(btn1, btn2, btn3, btn4)\n",
    "    bot.send_message(chat_id, f'''Привет! {name} выбери курс ''', reply_markup=keyboard)\n",
    "\n",
    "def show_submenu_category1(chat_id, course_number):\n",
    "    # получаем список групп для курса\n",
    "    groups = univercity_df[univercity_df[\"course\"] == int(course_number)][\"group\"].values # отбор курса добавить\n",
    "    keyboard = types.InlineKeyboardMarkup(row_width=2)\n",
    "    # btn_back = types.InlineKeyboardButton(\"🔙 Назад\", callback_data=\"back_main\")\n",
    "    for grp in groups[:]:  # берем первые две группы а надо все!!!!\n",
    "        btn = types.InlineKeyboardButton(f\"Группа_{grp}\", callback_data=f\"group_{grp}\")\n",
    "        keyboard.add(btn)\n",
    "    bot.send_message(chat_id, \"Выберите группу:\", reply_markup=keyboard)\n",
    "\n",
    "@bot.callback_query_handler(func=lambda call: call.data.startswith(('course_', 'group_')))\n",
    "def callback_query(call):\n",
    "    user_id = call.from_user.id\n",
    "    data = call.data  # например, \"course_1\" или \"group_101\"\n",
    "    \n",
    "    # если выбираем курс\n",
    "    if data.startswith(\"course_\"):\n",
    "        course_number = data.split(\"_\")[1]\n",
    "        user_state[user_id]['course'] = f\"Курс_{course_number}\"\n",
    "        # отправляем подменю групп\n",
    "        show_submenu_category1(call.message.chat.id, course_number)\n",
    "        bot.answer_callback_query(call.id)  # убираем \"часики\" на кнопке\n",
    "\n",
    "    # если выбираем группу\n",
    "    elif data.startswith(\"group_\"):\n",
    "        group_number = data.split(\"_\")[1]\n",
    "        user_state[user_id]['group'] = f\"Группа_{group_number}\"\n",
    "        state = user_state[user_id]\n",
    "        # достаём численность группы из dataframe\n",
    "        nm = univercity_df[univercity_df['group'] == int(group_number)]['nm'].values[0]\n",
    "        text = (f\"Ваш курс: {state['course']}\\n\"\n",
    "                f\"Ваша группа: {state['group']}\\n\"\n",
    "                f\"Численность группы: {nm}\")\n",
    "        bot.send_message(call.message.chat.id, text)\n",
    "        bot.answer_callback_query(call.id)\n",
    "\n",
    "\n",
    "bot.polling()"
   ]
  }
 ],
 "metadata": {
  "kernelspec": {
   "display_name": "Python 3",
   "language": "python",
   "name": "python3"
  },
  "language_info": {
   "codemirror_mode": {
    "name": "ipython",
    "version": 3
   },
   "file_extension": ".py",
   "mimetype": "text/x-python",
   "name": "python",
   "nbconvert_exporter": "python",
   "pygments_lexer": "ipython3",
   "version": "3.11.3"
  }
 },
 "nbformat": 4,
 "nbformat_minor": 2
}
