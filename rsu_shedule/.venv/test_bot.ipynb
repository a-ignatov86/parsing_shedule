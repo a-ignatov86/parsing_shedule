{
 "cells": [
  {
   "cell_type": "code",
   "execution_count": 14,
   "id": "975edcae",
   "metadata": {},
   "outputs": [],
   "source": [
    "import pandas as pd\n",
    "import telebot\n",
    "from telebot import types"
   ]
  },
  {
   "cell_type": "code",
   "execution_count": 15,
   "id": "4ed3e6ec",
   "metadata": {},
   "outputs": [],
   "source": [
    "TOKEN_BOT = \"6911877132:AAGi1Ljjo3whs4dAQm12pqmDwUd1aJVCEHg\""
   ]
  },
  {
   "cell_type": "code",
   "execution_count": null,
   "id": "58c721a1",
   "metadata": {},
   "outputs": [],
   "source": [
    "# для изучения функций \n",
    "# bot = telebot.TeleBot(TOKEN_BOT) # new token\n",
    "# @bot.message_handler(commands=['start'])  #, 'help'\n",
    "# def handle_start(message):\n",
    "#     mess = f'Привет!, <b> {message.from_user.first_name} <u>{message.from_user.last_name}</u> </b>'\n",
    "#     bot.send_message(message.chat.id, mess, parse_mode = 'html' )\n",
    "\n",
    "# @bot.message_handler()  # All message or text\n",
    "# def handle_start(message):\n",
    "#     if message.text.upper().lower() == \"Привет\":\n",
    "#         bot.send_message(message.chat.id, f\"И тебе привет {message.from_user.first_name}\", parse_mode = 'html' )\n",
    "#     elif message.text == \"id\":\n",
    "#         bot.send_message(message.chat.id, f\"Твой ID {message.from_user.id}\", parse_mode = 'html' )\n",
    "#     elif message.text == 'img':\n",
    "#         photo = open(\"image_fx_ (BI).jpg\", 'rb')\n",
    "#         bot.send_photo(message.chat.id, photo=photo)\n",
    "#     else:\n",
    "#         bot.send_message(message.chat.id, f\"Извини - не понимаю\", parse_mode = 'html' )\n",
    "\n",
    "\n",
    "# @bot.message_handler(content_types = ['photo'])\n",
    "# def get_user_photo(message):\n",
    "#     bot.send_message(message.chat.id, \"Вы прислали картинку, а я ожидаю текст\")\n",
    "\n",
    "# @bot.message_handler(commands=['website']) # кнопка с ссылкой на сайт\n",
    "# def website(message): # Для кнопок\n",
    "#     markup = types.InlineKeyboardMarkup()\n",
    "#     markup.add(types.InlineKeyboardButton(\"Перейти на сайт\", url=\"ya.ru\"))\n",
    "#     bot.send_message(message.chat.id, f\"Твой ID {message.from_user.id} переходи\", reply_markup=markup)\n",
    "\n",
    "# bot.polling(none_stop = True, interval = 0)"
   ]
  },
  {
   "cell_type": "markdown",
   "id": "83a6f682",
   "metadata": {},
   "source": [
    "Last TRY!!!"
   ]
  },
  {
   "cell_type": "code",
   "execution_count": 23,
   "id": "818b6218",
   "metadata": {},
   "outputs": [
    {
     "data": {
      "text/html": [
       "<div>\n",
       "<style scoped>\n",
       "    .dataframe tbody tr th:only-of-type {\n",
       "        vertical-align: middle;\n",
       "    }\n",
       "\n",
       "    .dataframe tbody tr th {\n",
       "        vertical-align: top;\n",
       "    }\n",
       "\n",
       "    .dataframe thead th {\n",
       "        text-align: right;\n",
       "    }\n",
       "</style>\n",
       "<table border=\"1\" class=\"dataframe\">\n",
       "  <thead>\n",
       "    <tr style=\"text-align: right;\">\n",
       "      <th></th>\n",
       "      <th>course</th>\n",
       "      <th>group</th>\n",
       "      <th>nm</th>\n",
       "    </tr>\n",
       "  </thead>\n",
       "  <tbody>\n",
       "    <tr>\n",
       "      <th>0</th>\n",
       "      <td>1</td>\n",
       "      <td>9402</td>\n",
       "      <td>25</td>\n",
       "    </tr>\n",
       "    <tr>\n",
       "      <th>1</th>\n",
       "      <td>1</td>\n",
       "      <td>9403</td>\n",
       "      <td>20</td>\n",
       "    </tr>\n",
       "    <tr>\n",
       "      <th>2</th>\n",
       "      <td>2</td>\n",
       "      <td>9302</td>\n",
       "      <td>15</td>\n",
       "    </tr>\n",
       "    <tr>\n",
       "      <th>3</th>\n",
       "      <td>2</td>\n",
       "      <td>9308</td>\n",
       "      <td>18</td>\n",
       "    </tr>\n",
       "    <tr>\n",
       "      <th>4</th>\n",
       "      <td>3</td>\n",
       "      <td>9208</td>\n",
       "      <td>7</td>\n",
       "    </tr>\n",
       "    <tr>\n",
       "      <th>5</th>\n",
       "      <td>2</td>\n",
       "      <td>9309</td>\n",
       "      <td>17</td>\n",
       "    </tr>\n",
       "  </tbody>\n",
       "</table>\n",
       "</div>"
      ],
      "text/plain": [
       "   course  group  nm\n",
       "0       1   9402  25\n",
       "1       1   9403  20\n",
       "2       2   9302  15\n",
       "3       2   9308  18\n",
       "4       3   9208   7\n",
       "5       2   9309  17"
      ]
     },
     "metadata": {},
     "output_type": "display_data"
    },
    {
     "data": {
      "text/plain": [
       "18"
      ]
     },
     "execution_count": 23,
     "metadata": {},
     "output_type": "execute_result"
    }
   ],
   "source": [
    "univercity_df = pd.DataFrame(columns= ['course', \"group\", \"nm\"], data=[[1,9402, 25], [1,9403, 20], [2,9302,15]])\n",
    "univercity_df.loc[len(univercity_df)] = [2,9308,18]\n",
    "univercity_df.loc[len(univercity_df)] = [3,9208,7]\n",
    "univercity_df.loc[len(univercity_df)] = [2,9309,17]\n",
    "display(univercity_df) #[univercity_df[\"course\"] == 2][0:1].group.values[0]\n",
    "univercity_df[univercity_df[\"course\"] == 2][\"group\"].values[0:][0]\n",
    "univercity_df[univercity_df[\"group\"] == 9308][\"nm\"].values[0:][0]"
   ]
  },
  {
   "cell_type": "code",
   "execution_count": null,
   "id": "5e6798d3",
   "metadata": {},
   "outputs": [],
   "source": [
    "bot = telebot.TeleBot(TOKEN_BOT)\n",
    "user_state = {}  # Словарь для хранения состояния каждого пользователя\n",
    "\n",
    "@bot.message_handler(commands=['start'])\n",
    "def start_command(message):\n",
    "    user_id = message.from_user.id\n",
    "    user_state[user_id] = {}  # инициализация состояния\n",
    "    user_state[user_id]['name'] = message.from_user.first_name\n",
    "    name = user_state[user_id]['name']\n",
    "    show_main_menu(message.chat.id, name)\n",
    "\n",
    "def show_main_menu(chat_id, name):\n",
    "    keyboard = types.InlineKeyboardMarkup(row_width=2)\n",
    "    btn1 = types.InlineKeyboardButton(\"Курс_1\", callback_data=\"course_1\")\n",
    "    btn2 = types.InlineKeyboardButton(\"Курс_2\", callback_data=\"course_2\")\n",
    "    btn3 = types.InlineKeyboardButton(\"Курс_3\", callback_data=\"course_3\")\n",
    "    btn4 = types.InlineKeyboardButton(\"Курс_4\", callback_data=\"course_4\")\n",
    "    keyboard.add(btn1, btn2, btn3, btn4)\n",
    "    bot.send_message(chat_id, f'''Привет! {name} выбери курс ''', reply_markup=keyboard)\n",
    "\n",
    "def show_submenu_category1(chat_id, course_number):\n",
    "    # получаем список групп для курса\n",
    "    groups = univercity_df[univercity_df[\"course\"] == int(course_number)][\"group\"].values # отбор курса добавить\n",
    "    keyboard = types.InlineKeyboardMarkup(row_width=2)\n",
    "    # btn_back = types.InlineKeyboardButton(\"🔙 Назад\", callback_data=\"back_main\")\n",
    "    for grp in groups[:]:  # берем первые две группы а надо все!!!!\n",
    "        btn = types.InlineKeyboardButton(f\"Группа_{grp}\", callback_data=f\"group_{grp}\")\n",
    "        keyboard.add(btn)\n",
    "    bot.send_message(chat_id, \"Выберите группу:\", reply_markup=keyboard)\n",
    "\n",
    "@bot.callback_query_handler(func=lambda call: call.data.startswith(('course_', 'group_')))\n",
    "def callback_query(call):\n",
    "    user_id = call.from_user.id\n",
    "    data = call.data  # например, \"course_1\" или \"group_101\"\n",
    "    \n",
    "    # если выбираем курс\n",
    "    if data.startswith(\"course_\"):\n",
    "        course_number = data.split(\"_\")[1]\n",
    "        user_state[user_id]['course'] = f\"Курс_{course_number}\"\n",
    "        # отправляем подменю групп\n",
    "        show_submenu_category1(call.message.chat.id, course_number)\n",
    "        bot.answer_callback_query(call.id)  # убираем \"часики\" на кнопке\n",
    "\n",
    "    # если выбираем группу\n",
    "    elif data.startswith(\"group_\"):\n",
    "        group_number = data.split(\"_\")[1]\n",
    "        user_state[user_id]['group'] = f\"Группа_{group_number}\"\n",
    "        state = user_state[user_id]\n",
    "        # достаём численность группы из dataframe\n",
    "        nm = univercity_df[univercity_df['group'] == int(group_number)]['nm'].values[0]\n",
    "        text = (f\"Ваш курс: {state['course']}\\n\"\n",
    "                f\"Ваша группа: {state['group']}\\n\"\n",
    "                f\"Численность группы: {nm}\")\n",
    "        bot.send_message(call.message.chat.id, text)\n",
    "        bot.answer_callback_query(call.id)\n",
    "\n",
    "\n",
    "bot.polling()"
   ]
  }
 ],
 "metadata": {
  "kernelspec": {
   "display_name": "Python 3",
   "language": "python",
   "name": "python3"
  },
  "language_info": {
   "codemirror_mode": {
    "name": "ipython",
    "version": 3
   },
   "file_extension": ".py",
   "mimetype": "text/x-python",
   "name": "python",
   "nbconvert_exporter": "python",
   "pygments_lexer": "ipython3",
   "version": "3.11.3"
  }
 },
 "nbformat": 4,
 "nbformat_minor": 5
}
