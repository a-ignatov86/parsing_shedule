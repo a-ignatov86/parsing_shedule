{
 "cells": [
  {
   "cell_type": "markdown",
   "metadata": {},
   "source": [
    "Импорт библиотек"
   ]
  },
  {
   "cell_type": "code",
   "execution_count": 1,
   "metadata": {},
   "outputs": [],
   "source": [
    "import os\n",
    "from dotenv import load_dotenv\n",
    "import pandas as pd"
   ]
  },
  {
   "cell_type": "markdown",
   "metadata": {},
   "source": [
    "Подключение к таблице для создания датафрейма"
   ]
  },
  {
   "cell_type": "code",
   "execution_count": 2,
   "metadata": {},
   "outputs": [],
   "source": [
    "df_shedule = pd.read_excel('SheduleFESU.xlsx', header=0, usecols='A:J')\n",
    "df_shedule.loc[df_shedule[\"Profile\"] == ' Социология', \"Profile\"] = \"Социология\" #df = df.replace(to_replace=r'.*', value=new_value, regex=True)\n"
   ]
  },
  {
   "cell_type": "code",
   "execution_count": 31,
   "metadata": {},
   "outputs": [
    {
     "data": {
      "text/plain": [
       "array(['Иностранный язык ', 'Культурология', 'Основы социологии', 'ИКТ'],\n",
       "      dtype=object)"
      ]
     },
     "execution_count": 31,
     "metadata": {},
     "output_type": "execute_result"
    }
   ],
   "source": [
    "group_names = df_shedule['Group'].unique()\n",
    "len(group_names)\n",
    "logo = \"https://img.icons8.com/?size=100&id=EVWPoM8ohVl2&format=png&color=000000\"\n",
    "\n",
    "nm_lesson = df_shedule.loc[df_shedule['Num_Day'] == 2, 'Num_Lesson'].values\n",
    "nm_lesson\n",
    "subject = df_shedule.loc[(df_shedule['Num_Day'] == int(1)) & (df_shedule['Group'] == int(9409)), 'Subject'].values\n",
    "subject"
   ]
  },
  {
   "cell_type": "code",
   "execution_count": 37,
   "metadata": {},
   "outputs": [
    {
     "data": {
      "text/plain": [
       "0    Пн\n",
       "1    Вт\n",
       "2    Ср\n",
       "3    Чт\n",
       "4    Пт\n",
       "5    Сб\n",
       "6    Вс\n",
       "dtype: object"
      ]
     },
     "execution_count": 37,
     "metadata": {},
     "output_type": "execute_result"
    }
   ],
   "source": [
    "name_days = pd.DataFrame({\n",
    "        \"1\": [\"Пн\"],\n",
    "        \"2\": [\"Вт\"],\n",
    "        \"3\": [\"Ср\"],\n",
    "        \"4\": [\"Чт\"],\n",
    "        \"5\": [\"Пт\"],\n",
    "        \"6\": [\"Сб\"],\n",
    "        \"7\": [\"Вс\"]}) #, index=range(7))\n",
    "\n",
    "name_days = name_days.stack().reset_index(drop=True)\n",
    "name_days"
   ]
  },
  {
   "cell_type": "markdown",
   "metadata": {},
   "source": [
    "Проверка логики программы"
   ]
  },
  {
   "cell_type": "code",
   "execution_count": 38,
   "metadata": {},
   "outputs": [
    {
     "name": "stdout",
     "output_type": "stream",
     "text": [
      "В Пн Пара # 1 по дисциплине: Иностранный язык \n",
      "В Пн Пара # 2 по дисциплине: Культурология\n",
      "В Пн Пара # 3 по дисциплине: Основы социологии\n",
      "В Пн Пара # 4 по дисциплине: ИКТ\n"
     ]
    }
   ],
   "source": [
    "def get_text_messages(message_course = input('Enter num course: '), message_group = input('Enter num group: '), message_day = input('Enter num day: ') ):\n",
    "    num_of_week_day = message_day.strip()\n",
    "    num_of_course = message_course.strip()\n",
    "    num_of_group = message_group.strip()\n",
    "    subject = df_shedule.loc[(df_shedule['Num_Day'] == int(num_of_week_day)) & (df_shedule['Group'] == int(num_of_group)), 'Subject'].values\n",
    "    nm_lesson = df_shedule.loc[(df_shedule['Num_Day'] == int(num_of_week_day)) & (df_shedule['Group'] == int(num_of_group)), 'Num_Lesson'].values\n",
    "    # print(f'{num_of_course} {num_of_group} {num_of_week_day}')\n",
    "    \n",
    "    if len(subject) > 0:\n",
    "        i = 0\n",
    "        for sub in subject:\n",
    "            print(f\"В {df_shedule[df_shedule['Num_Day'] == int(num_of_week_day)]['Day'].values[0]} Пара # {nm_lesson[i]} по дисциплине: {sub}\")\n",
    "            i += 1\n",
    "\n",
    "    else: \n",
    "        print(f'В {[name_days[int(num_of_week_day)- 1]][0]} у Вас пар нет')\n",
    "\n",
    "\n",
    "get_text_messages()"
   ]
  },
  {
   "cell_type": "markdown",
   "metadata": {},
   "source": [
    "# Create bot Telegram"
   ]
  },
  {
   "cell_type": "code",
   "execution_count": null,
   "metadata": {},
   "outputs": [],
   "source": [
    "# 1)Create bot 2)Give token 3)Task like Neyro 4) Add pandas 5)Thin abot Logic 1010)task server Heroku -> RSU"
   ]
  }
 ],
 "metadata": {
  "kernelspec": {
   "display_name": "Python 3",
   "language": "python",
   "name": "python3"
  },
  "language_info": {
   "codemirror_mode": {
    "name": "ipython",
    "version": 3
   },
   "file_extension": ".py",
   "mimetype": "text/x-python",
   "name": "python",
   "nbconvert_exporter": "python",
   "pygments_lexer": "ipython3",
   "version": "3.11.3"
  }
 },
 "nbformat": 4,
 "nbformat_minor": 2
}
