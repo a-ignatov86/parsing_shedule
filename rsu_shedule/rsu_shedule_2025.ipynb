{
 "cells": [
  {
   "cell_type": "markdown",
   "metadata": {},
   "source": [
    "Импорт библиотек"
   ]
  },
  {
   "cell_type": "code",
   "execution_count": 1,
   "metadata": {},
   "outputs": [],
   "source": [
    "import os\n",
    "from dotenv import load_dotenv\n",
    "import pandas as pd"
   ]
  },
  {
   "cell_type": "markdown",
   "metadata": {},
   "source": [
    "Подключение к таблице для создания датафрейма"
   ]
  },
  {
   "cell_type": "code",
   "execution_count": 19,
   "metadata": {},
   "outputs": [
    {
     "data": {
      "text/plain": [
       "Courses       0\n",
       "Profile       0\n",
       "Group         0\n",
       "Num_Day       0\n",
       "Day           0\n",
       "Num_Lesson    0\n",
       "Subject       0\n",
       "Room          0\n",
       "Week          0\n",
       "Logo          0\n",
       "dtype: int64"
      ]
     },
     "metadata": {},
     "output_type": "display_data"
    }
   ],
   "source": [
    "df_shedule = pd.read_excel('SheduleFESU.xlsx', header=0, usecols='A:J')\n",
    "# df_shedule.loc[df_shedule[\"Profile\"] == ' Социология', \"Profile\"] = \"Социология\" #df = df.replace(to_replace=r'.*', value=new_value, regex=True)\n",
    "df_shedule.fillna(value='Окно', inplace=True)\n",
    "display(df_shedule.isna().sum())\n"
   ]
  },
  {
   "cell_type": "code",
   "execution_count": 16,
   "metadata": {},
   "outputs": [
    {
     "data": {
      "text/plain": [
       "array(['Иностранный язык ', 'Культурология', 'Основы социологии', 'ИКТ'],\n",
       "      dtype=object)"
      ]
     },
     "execution_count": 16,
     "metadata": {},
     "output_type": "execute_result"
    }
   ],
   "source": [
    "group_names = df_shedule['Group'].unique()\n",
    "len(group_names)\n",
    "logo = \"https://img.icons8.com/?size=100&id=EVWPoM8ohVl2&format=png&color=000000\"\n",
    "\n",
    "nm_lesson = df_shedule.loc[df_shedule['Num_Day'] == 2, 'Num_Lesson'].values\n",
    "nm_lesson\n",
    "subject = df_shedule.loc[(df_shedule['Num_Day'] == int(1)) & (df_shedule['Group'] == int(9409)), 'Subject'].values\n",
    "subject"
   ]
  },
  {
   "cell_type": "code",
   "execution_count": 17,
   "metadata": {},
   "outputs": [
    {
     "data": {
      "text/plain": [
       "0    Понедельник\n",
       "1       Вториник\n",
       "2          Среда\n",
       "3        Четверг\n",
       "4        Пятница\n",
       "5        Суббота\n",
       "6    Воскресенье\n",
       "dtype: object"
      ]
     },
     "execution_count": 17,
     "metadata": {},
     "output_type": "execute_result"
    }
   ],
   "source": [
    "name_days = pd.DataFrame({\n",
    "        \"1\": [\"Понедельник\"],\n",
    "        \"2\": [\"Вториник\"],\n",
    "        \"3\": [\"Среда\"],\n",
    "        \"4\": [\"Четверг\"],\n",
    "        \"5\": [\"Пятница\"],\n",
    "        \"6\": [\"Суббота\"],\n",
    "        \"7\": [\"Воскресенье\"]}) #, index=range(7))\n",
    "\n",
    "name_days = name_days.stack().reset_index(drop=True)\n",
    "name_days"
   ]
  },
  {
   "cell_type": "markdown",
   "metadata": {},
   "source": [
    "Проверка логики программы"
   ]
  },
  {
   "cell_type": "code",
   "execution_count": 20,
   "metadata": {},
   "outputs": [
    {
     "name": "stdout",
     "output_type": "stream",
     "text": [
      "В Вт Пара # 1 по дисциплине: Социология семьи\n",
      "В Вт Пара # 2 по дисциплине: Социология семьи\n",
      "В Вт Пара # 3 по дисциплине: Социология семьи\n",
      "В Вт Пара # 4 по дисциплине: Окно\n"
     ]
    }
   ],
   "source": [
    "def get_text_messages( message_group = input('Enter num group: '), message_day = input('Enter num day: ') ): #message_course = input('Enter num course: '),\n",
    "    num_of_week_day = message_day.strip()\n",
    "    # num_of_course = message_course.strip()\n",
    "    num_of_group = message_group.strip()\n",
    "    subject = df_shedule.loc[(df_shedule['Num_Day'] == int(num_of_week_day)) & (df_shedule['Group'] == int(num_of_group)), 'Subject'].values\n",
    "    nm_lesson = df_shedule.loc[(df_shedule['Num_Day'] == int(num_of_week_day)) & (df_shedule['Group'] == int(num_of_group)), 'Num_Lesson'].values\n",
    "    # print(f'{num_of_course} {num_of_group} {num_of_week_day}')\n",
    "    \n",
    "    if len(subject) > 0:\n",
    "        i = 0\n",
    "        for sub in subject:\n",
    "            print(f\"В {df_shedule[df_shedule['Num_Day'] == int(num_of_week_day)]['Day'].values[0]} Пара # {nm_lesson[i]} по дисциплине: {sub}\")\n",
    "            i += 1\n",
    "\n",
    "    else: \n",
    "        print(f'В {[name_days[int(num_of_week_day)- 1]][0]} у Вас пар нет')\n",
    "\n",
    "\n",
    "get_text_messages()"
   ]
  },
  {
   "cell_type": "markdown",
   "metadata": {},
   "source": [
    "# Create bot Telegram"
   ]
  },
  {
   "cell_type": "code",
   "execution_count": null,
   "metadata": {},
   "outputs": [],
   "source": [
    "# 1)Create bot 2)Give token 3)Task like Neyro 4) Add pandas 5)Thin abot Logic 1010)task server Heroku -> RSU"
   ]
  }
 ],
 "metadata": {
  "kernelspec": {
   "display_name": "Python 3",
   "language": "python",
   "name": "python3"
  },
  "language_info": {
   "codemirror_mode": {
    "name": "ipython",
    "version": 3
   },
   "file_extension": ".py",
   "mimetype": "text/x-python",
   "name": "python",
   "nbconvert_exporter": "python",
   "pygments_lexer": "ipython3",
   "version": "3.11.3"
  }
 },
 "nbformat": 4,
 "nbformat_minor": 2
}
