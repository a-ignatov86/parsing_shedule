{
 "cells": [
  {
   "cell_type": "markdown",
   "metadata": {},
   "source": [
    "# Imports"
   ]
  },
  {
   "cell_type": "code",
   "execution_count": null,
   "metadata": {},
   "outputs": [],
   "source": [
    "import os\n",
    "from dotenv import load_dotenv\n",
    "import requests\n",
    "import pandas as pd\n",
    "import json"
   ]
  },
  {
   "cell_type": "code",
   "execution_count": 17,
   "metadata": {},
   "outputs": [],
   "source": [
    "# Variables for environment\n",
    "load_dotenv()\n",
    "\n",
    "KEY = os.getenv('KEY')\n",
    "URL = os.getenv('URL')"
   ]
  },
  {
   "cell_type": "markdown",
   "metadata": {},
   "source": [
    "# Request"
   ]
  },
  {
   "cell_type": "code",
   "execution_count": 18,
   "metadata": {},
   "outputs": [
    {
     "data": {
      "text/plain": [
       "<Response [200]>"
      ]
     },
     "execution_count": 18,
     "metadata": {},
     "output_type": "execute_result"
    }
   ],
   "source": [
    "# https://curlconverter.com/ - параметры запроса\n",
    "\n",
    "cookies = {\n",
    "    '_ym_uid': '1693049884233653359',\n",
    "    '_ga': 'GA1.1.97140793.1693049884',\n",
    "    'AMP_MKTG_da58b09d09': 'JTdCJTdE',\n",
    "    '_ym_d': '1741089388',\n",
    "    '_ym_isad': '2',\n",
    "    'city_id': '136632527bfa6f7eeff74c5273e81f8bcdb890dd93a2a72fcde23e1d8939def6a%3A2%3A%7Bi%3A0%3Bs%3A7%3A%22city_id%22%3Bi%3A1%3Bi%3A483%3B%7D',\n",
    "    'PHPSESSID': '2d123424b2cb80b477c31e4716e8e66a',\n",
    "    '_csrf': '0d6ba310cdf4e511b6a21f29a1f73ec3e9c7a9835134da4b4b4aa758f24354d9a%3A2%3A%7Bi%3A0%3Bs%3A5%3A%22_csrf%22%3Bi%3A1%3Bs%3A32%3A%22HGpIkCq8esrZGEB-29-KqMzCKC78Lj45%22%3B%7D',\n",
    "    '_ga_H12JN54PEQ': 'GS1.1.1742897202.280.1.1742897224.0.0.0',\n",
    "    'AMP_da58b09d09': 'JTdCJTIyZGV2aWNlSWQlMjIlM0ElMjJmYmY0MzlkZC05NGIzLTRjNWEtYTMzZS03NjgyNjFlZTY2MjglMjIlMkMlMjJzZXNzaW9uSWQlMjIlM0ExNzQyODk3MTg0MTU3JTJDJTIyb3B0T3V0JTIyJTNBZmFsc2UlMkMlMjJsYXN0RXZlbnRUaW1lJTIyJTNBMTc0Mjg5NzIyNDI1MyUyQyUyMmxhc3RFdmVudElkJTIyJTNBMTM5NCU3RA==',\n",
    "}\n",
    "\n",
    "headers = {\n",
    "    'accept': 'application/json, text/plain, */*',\n",
    "    'accept-language': 'ru,en;q=0.9',\n",
    "    'content-type': 'application/json;charset=UTF-8',\n",
    "    # 'cookie': '_ym_uid=1693049884233653359; _ga=GA1.1.97140793.1693049884; AMP_MKTG_da58b09d09=JTdCJTdE; _ym_d=1741089388; _ym_isad=2; city_id=136632527bfa6f7eeff74c5273e81f8bcdb890dd93a2a72fcde23e1d8939def6a%3A2%3A%7Bi%3A0%3Bs%3A7%3A%22city_id%22%3Bi%3A1%3Bi%3A483%3B%7D; PHPSESSID=2d123424b2cb80b477c31e4716e8e66a; _csrf=0d6ba310cdf4e511b6a21f29a1f73ec3e9c7a9835134da4b4b4aa758f24354d9a%3A2%3A%7Bi%3A0%3Bs%3A5%3A%22_csrf%22%3Bi%3A1%3Bs%3A32%3A%22HGpIkCq8esrZGEB-29-KqMzCKC78Lj45%22%3B%7D; _ga_H12JN54PEQ=GS1.1.1742897202.280.1.1742897224.0.0.0; AMP_da58b09d09=JTdCJTIyZGV2aWNlSWQlMjIlM0ElMjJmYmY0MzlkZC05NGIzLTRjNWEtYTMzZS03NjgyNjFlZTY2MjglMjIlMkMlMjJzZXNzaW9uSWQlMjIlM0ExNzQyODk3MTg0MTU3JTJDJTIyb3B0T3V0JTIyJTNBZmFsc2UlMkMlMjJsYXN0RXZlbnRUaW1lJTIyJTNBMTc0Mjg5NzIyNDI1MyUyQyUyMmxhc3RFdmVudElkJTIyJTNBMTM5NCU3RA==',\n",
    "    # 'id-local-hash': '1a87ff679a2f3e71d9181a67b7542122c', #хэш ключа dotenv!!!!\n",
    "    'id-local-hash': KEY,\n",
    "    'origin': 'https://omni.top-academy.ru',\n",
    "    'priority': 'u=1, i',\n",
    "    'referer': 'https://omni.top-academy.ru/',\n",
    "    'sec-ch-ua': '\"Not A(Brand\";v=\"8\", \"Chromium\";v=\"132\", \"YaBrowser\";v=\"25.2\", \"Yowser\";v=\"2.5\"',\n",
    "    'sec-ch-ua-mobile': '?0',\n",
    "    'sec-ch-ua-platform': '\"Windows\"',\n",
    "    'sec-fetch-dest': 'empty',\n",
    "    'sec-fetch-mode': 'cors',\n",
    "    'sec-fetch-site': 'same-origin',\n",
    "    'user-agent': 'Mozilla/5.0 (Windows NT 10.0; Win64; x64) AppleWebKit/537.36 (KHTML, like Gecko) Chrome/132.0.0.0 YaBrowser/25.2.0.0 Safari/537.36',\n",
    "}\n",
    "\n",
    "json_data = {\n",
    "    'week': 0,\n",
    "}\n",
    "\n",
    "response = requests.post(url=URL, cookies=cookies, headers=headers, json=json_data)\n",
    "\n",
    "\n",
    "# response.json()[\"body\"].keys()\n",
    "# response.json()[\"body\"]['8']['7']\n",
    "\n",
    "response"
   ]
  },
  {
   "cell_type": "markdown",
   "metadata": {},
   "source": [
    "# Create dataframes\n",
    "\n"
   ]
  },
  {
   "cell_type": "code",
   "execution_count": null,
   "metadata": {},
   "outputs": [],
   "source": [
    "df_shedule = pd.DataFrame(columns=['num_day', 'day', '#_lesson', 'subject', 'group', \"room\"])\n",
    "\n",
    "name_days = pd.DataFrame({\n",
    "        \"1\": [\"Пн\"],\n",
    "        \"2\": [\"Вт\"],\n",
    "        \"3\": [\"Ср\"],\n",
    "        \"4\": [\"Чт\"],\n",
    "        \"5\": [\"Пт\"],\n",
    "        \"6\": [\"Сб\"],\n",
    "        \"7\": [\"Вс\"]}) #, index=range(7))\n",
    "\n",
    "name_days = name_days.stack().reset_index(drop=True)"
   ]
  },
  {
   "cell_type": "markdown",
   "metadata": {},
   "source": [
    "# Cycles for DF filling"
   ]
  },
  {
   "cell_type": "code",
   "execution_count": 14,
   "metadata": {},
   "outputs": [],
   "source": [
    "keys_of_body = response.json()[\"body\"].keys()\n",
    "body = response.json()[\"body\"]\n",
    "\n",
    "for lents_body in keys_of_body:\n",
    "    for key_day in body[lents_body].keys():\n",
    "        num_day = int(key_day)\n",
    "        day = name_days[int(key_day)-1]\n",
    "        lesson = body[lents_body][key_day][\"lenta\"]\n",
    "        subject = body[lents_body][key_day]['name_spec']\n",
    "        group = body[lents_body][key_day]['groups']\n",
    "        room = body[lents_body][key_day]['num_rooms']\n",
    "        df_shedule.loc[len(df_shedule)] = [num_day, day, lesson, subject, group, room]"
   ]
  },
  {
   "cell_type": "code",
   "execution_count": 16,
   "metadata": {},
   "outputs": [
    {
     "data": {
      "text/html": [
       "<div>\n",
       "<style scoped>\n",
       "    .dataframe tbody tr th:only-of-type {\n",
       "        vertical-align: middle;\n",
       "    }\n",
       "\n",
       "    .dataframe tbody tr th {\n",
       "        vertical-align: top;\n",
       "    }\n",
       "\n",
       "    .dataframe thead th {\n",
       "        text-align: right;\n",
       "    }\n",
       "</style>\n",
       "<table border=\"1\" class=\"dataframe\">\n",
       "  <thead>\n",
       "    <tr style=\"text-align: right;\">\n",
       "      <th></th>\n",
       "      <th>num_day</th>\n",
       "      <th>day</th>\n",
       "      <th>#_lesson</th>\n",
       "      <th>subject</th>\n",
       "      <th>group</th>\n",
       "      <th>room</th>\n",
       "    </tr>\n",
       "  </thead>\n",
       "  <tbody>\n",
       "    <tr>\n",
       "      <th>0</th>\n",
       "      <td>5</td>\n",
       "      <td>Пт</td>\n",
       "      <td>1</td>\n",
       "      <td>Интернет-маркетинг</td>\n",
       "      <td>9/1-РПО-24/2</td>\n",
       "      <td>1[GREEN]</td>\n",
       "    </tr>\n",
       "    <tr>\n",
       "      <th>1</th>\n",
       "      <td>5</td>\n",
       "      <td>Пт</td>\n",
       "      <td>2</td>\n",
       "      <td>Интернет-маркетинг</td>\n",
       "      <td>9/1-РПО-24/1</td>\n",
       "      <td>1[GREEN]</td>\n",
       "    </tr>\n",
       "  </tbody>\n",
       "</table>\n",
       "</div>"
      ],
      "text/plain": [
       "   num_day day #_lesson             subject         group      room\n",
       "0        5  Пт        1  Интернет-маркетинг  9/1-РПО-24/2  1[GREEN]\n",
       "1        5  Пт        2  Интернет-маркетинг  9/1-РПО-24/1  1[GREEN]"
      ]
     },
     "execution_count": 16,
     "metadata": {},
     "output_type": "execute_result"
    }
   ],
   "source": [
    "df_shedule.query('num_day == 5')"
   ]
  }
 ],
 "metadata": {
  "kernelspec": {
   "display_name": "Python 3",
   "language": "python",
   "name": "python3"
  },
  "language_info": {
   "codemirror_mode": {
    "name": "ipython",
    "version": 3
   },
   "file_extension": ".py",
   "mimetype": "text/x-python",
   "name": "python",
   "nbconvert_exporter": "python",
   "pygments_lexer": "ipython3",
   "version": "3.11.3"
  }
 },
 "nbformat": 4,
 "nbformat_minor": 2
}
