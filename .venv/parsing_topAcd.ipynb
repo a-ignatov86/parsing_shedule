{
 "cells": [
  {
   "cell_type": "markdown",
   "metadata": {},
   "source": [
    "# Imports"
   ]
  },
  {
   "cell_type": "code",
   "execution_count": 1,
   "metadata": {},
   "outputs": [],
   "source": [
    "import os\n",
    "from dotenv import load_dotenv\n",
    "import requests\n",
    "import pandas as pd\n",
    "import json"
   ]
  },
  {
   "cell_type": "code",
   "execution_count": 2,
   "metadata": {},
   "outputs": [],
   "source": [
    "# Variables for environment\n",
    "load_dotenv()\n",
    "\n",
    "KEY = os.getenv('KEY')\n",
    "URL = os.getenv('URL')"
   ]
  },
  {
   "cell_type": "markdown",
   "metadata": {},
   "source": [
    "# Request"
   ]
  },
  {
   "cell_type": "code",
   "execution_count": 4,
   "metadata": {},
   "outputs": [
    {
     "data": {
      "text/plain": [
       "200"
      ]
     },
     "execution_count": 4,
     "metadata": {},
     "output_type": "execute_result"
    }
   ],
   "source": [
    "# https://curlconverter.com/ - параметры запроса\n",
    "\n",
    "cookies = {\n",
    "    '_ym_uid': '1693049884233653359',\n",
    "    '_ga': 'GA1.1.97140793.1693049884',\n",
    "    'AMP_MKTG_da58b09d09': 'JTdCJTdE',\n",
    "    '_ym_d': '1741089388',\n",
    "    '_ym_isad': '2',\n",
    "    'city_id': '136632527bfa6f7eeff74c5273e81f8bcdb890dd93a2a72fcde23e1d8939def6a%3A2%3A%7Bi%3A0%3Bs%3A7%3A%22city_id%22%3Bi%3A1%3Bi%3A483%3B%7D',\n",
    "    'PHPSESSID': 'd49ad2851d9deb94abc7390c7406dc23', # may change\n",
    "    '_csrf': '0d6ba310cdf4e511b6a21f29a1f73ec3e9c7a9835134da4b4b4aa758f24354d9a%3A2%3A%7Bi%3A0%3Bs%3A5%3A%22_csrf%22%3Bi%3A1%3Bs%3A32%3A%22HGpIkCq8esrZGEB-29-KqMzCKC78Lj45%22%3B%7D',\n",
    "    '_ga_H12JN54PEQ': 'GS1.1.1742897202.280.1.1742897224.0.0.0',\n",
    "    'AMP_da58b09d09': 'JTdCJTIyZGV2aWNlSWQlMjIlM0ElMjJmYmY0MzlkZC05NGIzLTRjNWEtYTMzZS03NjgyNjFlZTY2MjglMjIlMkMlMjJzZXNzaW9uSWQlMjIlM0ExNzQyODk3MTg0MTU3JTJDJTIyb3B0T3V0JTIyJTNBZmFsc2UlMkMlMjJsYXN0RXZlbnRUaW1lJTIyJTNBMTc0Mjg5NzIyNDI1MyUyQyUyMmxhc3RFdmVudElkJTIyJTNBMTM5NCU3RA==',\n",
    "}\n",
    "\n",
    "headers = {\n",
    "    'accept': 'application/json, text/plain, */*',\n",
    "    'accept-language': 'ru,en;q=0.9',\n",
    "    'content-type': 'application/json;charset=UTF-8',\n",
    "    # 'cookie': '_ym_uid=1693049884233653359; _ga=GA1.1.97140793.1693049884; AMP_MKTG_da58b09d09=JTdCJTdE; _ym_d=1741089388; _ym_isad=2; city_id=136632527bfa6f7eeff74c5273e81f8bcdb890dd93a2a72fcde23e1d8939def6a%3A2%3A%7Bi%3A0%3Bs%3A7%3A%22city_id%22%3Bi%3A1%3Bi%3A483%3B%7D; PHPSESSID=2d123424b2cb80b477c31e4716e8e66a; _csrf=0d6ba310cdf4e511b6a21f29a1f73ec3e9c7a9835134da4b4b4aa758f24354d9a%3A2%3A%7Bi%3A0%3Bs%3A5%3A%22_csrf%22%3Bi%3A1%3Bs%3A32%3A%22HGpIkCq8esrZGEB-29-KqMzCKC78Lj45%22%3B%7D; _ga_H12JN54PEQ=GS1.1.1742897202.280.1.1742897224.0.0.0; AMP_da58b09d09=JTdCJTIyZGV2aWNlSWQlMjIlM0ElMjJmYmY0MzlkZC05NGIzLTRjNWEtYTMzZS03NjgyNjFlZTY2MjglMjIlMkMlMjJzZXNzaW9uSWQlMjIlM0ExNzQyODk3MTg0MTU3JTJDJTIyb3B0T3V0JTIyJTNBZmFsc2UlMkMlMjJsYXN0RXZlbnRUaW1lJTIyJTNBMTc0Mjg5NzIyNDI1MyUyQyUyMmxhc3RFdmVudElkJTIyJTNBMTM5NCU3RA==',\n",
    "    # 'id-local-hash': '1a87ff679a2f3e71d9181a67b7542122c', #хэш ключа dotenv!!!!\n",
    "    'id-local-hash': KEY,\n",
    "    'origin': 'https://omni.top-academy.ru',\n",
    "    'priority': 'u=1, i',\n",
    "    'referer': 'https://omni.top-academy.ru/',\n",
    "    'sec-ch-ua': '\"Not A(Brand\";v=\"8\", \"Chromium\";v=\"132\", \"YaBrowser\";v=\"25.2\", \"Yowser\";v=\"2.5\"',\n",
    "    'sec-ch-ua-mobile': '?0',\n",
    "    'sec-ch-ua-platform': '\"Windows\"',\n",
    "    'sec-fetch-dest': 'empty',\n",
    "    'sec-fetch-mode': 'cors',\n",
    "    'sec-fetch-site': 'same-origin',\n",
    "    'user-agent': 'Mozilla/5.0 (Windows NT 10.0; Win64; x64) AppleWebKit/537.36 (KHTML, like Gecko) Chrome/132.0.0.0 YaBrowser/25.2.0.0 Safari/537.36',\n",
    "}\n",
    "\n",
    "json_data = {\n",
    "    'week': 0,\n",
    "}\n",
    "\n",
    "response = requests.post(url=URL, cookies=cookies, headers=headers, json=json_data)\n",
    "response.status_code\n",
    "\n",
    "# response.json()[\"body\"].keys()\n",
    "# response.json()[\"body\"]['8']['7']"
   ]
  },
  {
   "cell_type": "markdown",
   "metadata": {},
   "source": [
    "# Create dataframes\n",
    "\n"
   ]
  },
  {
   "cell_type": "code",
   "execution_count": 6,
   "metadata": {},
   "outputs": [],
   "source": [
    "df_shedule = pd.DataFrame(columns=['num_day', 'day', '#_lesson', 'subject', 'group', \"room\"])\n",
    "\n",
    "name_days = pd.DataFrame({\n",
    "        \"1\": [\"Пн\"],\n",
    "        \"2\": [\"Вт\"],\n",
    "        \"3\": [\"Ср\"],\n",
    "        \"4\": [\"Чт\"],\n",
    "        \"5\": [\"Пт\"],\n",
    "        \"6\": [\"Сб\"],\n",
    "        \"7\": [\"Вс\"]}) #, index=range(7))\n",
    "\n",
    "name_days = name_days.stack().reset_index(drop=True)"
   ]
  },
  {
   "cell_type": "code",
   "execution_count": 5,
   "metadata": {},
   "outputs": [
    {
     "data": {
      "text/plain": [
       "200"
      ]
     },
     "execution_count": 5,
     "metadata": {},
     "output_type": "execute_result"
    }
   ],
   "source": [
    "response = requests.post(url=URL, cookies=cookies , headers=headers, json=json_data)\n",
    "response.status_code"
   ]
  },
  {
   "cell_type": "code",
   "execution_count": 7,
   "metadata": {},
   "outputs": [],
   "source": [
    "response = requests.post(url=URL, cookies=cookies, headers=headers, json=json_data)\n",
    "response.status_code\n",
    "\n",
    "keys_of_body = response.json()[\"body\"].keys()\n",
    "body = response.json()[\"body\"]\n",
    "\n",
    "if response.status_code == 200:\n",
    "    for lents_body in keys_of_body:\n",
    "        for key_day in body[lents_body].keys():\n",
    "            num_day = int(key_day)\n",
    "            day = name_days[int(key_day)-1]\n",
    "            lesson = body[lents_body][key_day][\"lenta\"]\n",
    "            subject = body[lents_body][key_day]['name_spec']\n",
    "            group = body[lents_body][key_day]['groups']\n",
    "            room = body[lents_body][key_day]['num_rooms']\n",
    "            df_shedule.loc[len(df_shedule)] = [num_day, day, lesson, subject, group, room]\n",
    "else:\n",
    "    print(f\"Ошибка: {response.status_code}\")"
   ]
  },
  {
   "cell_type": "code",
   "execution_count": 107,
   "metadata": {},
   "outputs": [
    {
     "name": "stdout",
     "output_type": "stream",
     "text": [
      "Пт\n"
     ]
    }
   ],
   "source": [
    "# df_shedule.query('num_day == 5')\n",
    "\n",
    "# display(df_shedule)\n",
    "# subject = df_shedule.loc[df_shedule['num_day'] == int(7), '#_lesson'].values\n",
    "# subject[0]\n",
    "# df_shedule[df_shedule['num_day'] == int(7)][0]\n",
    "\n",
    "print(df_shedule[df_shedule['num_day'] == int(5)]['day'].values[0])\n"
   ]
  },
  {
   "cell_type": "markdown",
   "metadata": {},
   "source": [
    "Telegram Bot\n"
   ]
  },
  {
   "cell_type": "code",
   "execution_count": null,
   "metadata": {},
   "outputs": [],
   "source": [
    "# 1)Create bot 2)Give token 3)Task like Neyro 4) Add pandas 5)Thin abot Logic 1010)task server Heroku -> RSU\n",
    "import telebot\n",
    "TOKEN_BOT = os.getenv('TOKEN_BOT') \n",
    "\n",
    "bot= telebot.TeleBot(TOKEN_BOT)\n",
    "@bot.message_handler(commands=['start', 'help'])\n",
    "def handle_start(message):\n",
    "    bot.reply_to(message, \" Hello? i am bot for DataFrame\")\n",
    "\n",
    "@bot.message_handler(content_types = ['text'])\n",
    "def get_text_messages(message):\n",
    "    num_of_week_day = message.text.strip()\n",
    "    subject = df_shedule.loc[df_shedule['num_day'] == int(num_of_week_day), 'subject'].values\n",
    "    nm_lesson = df_shedule.loc[df_shedule['num_day'] == int(num_of_week_day), '#_lesson'].values\n",
    "    if len(subject) > 0:\n",
    "        i = 0\n",
    "        for sub in subject:\n",
    "            bot.reply_to(message, f\"В {df_shedule[df_shedule['num_day'] == int(num_of_week_day)]['day'].values[0]} пара # {nm_lesson[i]} по дисциплине: {sub}\")\n",
    "            i += 1\n",
    "\n",
    "    else: \n",
    "        bot.reply_to(message, f'В {[name_days[int(num_of_week_day )- 1]][0]} у Вас пар нет')\n",
    "    \n",
    "    # subject = df_shedule.loc[df_shedule['num_day'] == int(num_of_week_day), 'subject'].values\n",
    "    # nm_lesson = df_shedule.loc[df_shedule['num_day'] == int(num_of_week_day), '#_lesson'].values\n",
    "    # if len(subject) > 0:\n",
    "    #     bot.reply_to(message, f'В {num_of_week_day} Пары по : {subject}')\n",
    "    # else:\n",
    "    #     bot.reply_to(message, f'В {num_of_week_day} Пары нет')\n",
    "\n",
    "bot.polling(none_stop = True, interval = 0)\n"
   ]
  },
  {
   "cell_type": "code",
   "execution_count": null,
   "metadata": {},
   "outputs": [
    {
     "data": {
      "text/plain": [
       "'В Ср у Вас пар нет'"
      ]
     },
     "execution_count": 138,
     "metadata": {},
     "output_type": "execute_result"
    }
   ],
   "source": [
    "def get_text_messages(message = input('Enter nm day')):\n",
    "    num_of_week_day = message.strip()\n",
    "    subject = df_shedule.loc[df_shedule['num_day'] == int(num_of_week_day), 'subject'].values\n",
    "    nm_lesson = df_shedule.loc[df_shedule['num_day'] == int(num_of_week_day), '#_lesson'].values\n",
    "    if len(subject) > 0:\n",
    "        i = 0\n",
    "        for sub in subject:\n",
    "            bot.reply_to(message, f\"В {df_shedule[df_shedule['num_day'] == int(num_of_week_day)]['day'].values[0]} Пара # {nm_lesson[i]} по дисциплине: {sub}\")\n",
    "            i += 1\n",
    "\n",
    "    else: \n",
    "        bot.reply_to(message, f'В {[name_days[int(num_of_week_day )- 1]][0]} у Вас пар нет'})\n",
    "\n",
    "\n",
    "get_text_messages()"
   ]
  }
 ],
 "metadata": {
  "kernelspec": {
   "display_name": "Python 3",
   "language": "python",
   "name": "python3"
  },
  "language_info": {
   "codemirror_mode": {
    "name": "ipython",
    "version": 3
   },
   "file_extension": ".py",
   "mimetype": "text/x-python",
   "name": "python",
   "nbconvert_exporter": "python",
   "pygments_lexer": "ipython3",
   "version": "3.11.3"
  }
 },
 "nbformat": 4,
 "nbformat_minor": 2
}
