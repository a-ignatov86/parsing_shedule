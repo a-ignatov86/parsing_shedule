{
 "cells": [
  {
   "cell_type": "markdown",
   "metadata": {},
   "source": [
    "# Imports"
   ]
  },
  {
   "cell_type": "code",
   "execution_count": 1,
   "metadata": {},
   "outputs": [],
   "source": [
    "import os\n",
    "from dotenv import load_dotenv\n",
    "import requests\n",
    "import pandas as pd\n",
    "import json\n",
    "from bs4 import BeautifulSoup as BS"
   ]
  },
  {
   "cell_type": "code",
   "execution_count": 2,
   "metadata": {},
   "outputs": [],
   "source": [
    "# Variables for environment\n",
    "load_dotenv()\n",
    "\n",
    "KEY = os.getenv('KEY')\n",
    "URL = os.getenv('URL')"
   ]
  },
  {
   "cell_type": "code",
   "execution_count": 7,
   "metadata": {},
   "outputs": [
    {
     "name": "stdout",
     "output_type": "stream",
     "text": [
      "200\n"
     ]
    },
    {
     "data": {
      "text/plain": [
       "'a87ff679a2f3e71d9181a67b7542122c'"
      ]
     },
     "execution_count": 7,
     "metadata": {},
     "output_type": "execute_result"
    }
   ],
   "source": [
    "response1 = requests.get(url=\"https://omni.top-academy.ru/content-author/get-form-info\", headers={\"id-local-hash\":\n",
    "\"KEY\"}, cookies= {'PHPSESSID': 'd49ad2851d9deb94abc7390c7406dc23'})\n",
    "print(response1.status_code)\n",
    "# dict(response1.headers).values()\n",
    "# \n",
    "# data = json.loads(response1.headers)\n",
    "# response1.json()\n",
    "\n",
    "# rslt = BS(response1.headers).prettify()\n",
    "KEY\n"
   ]
  },
  {
   "cell_type": "markdown",
   "metadata": {},
   "source": [
    "# Request"
   ]
  },
  {
   "cell_type": "code",
   "execution_count": null,
   "metadata": {},
   "outputs": [
    {
     "data": {
      "text/plain": [
       "{'body': {'1': {'5': {'lenta': '1',\n",
       "    'weekday': '5',\n",
       "    'groups': '9/1-РПО-24/1',\n",
       "    'num_rooms': '2 [RED]',\n",
       "    'name_spec': 'Интернет-маркетинг',\n",
       "    'id_form': '2',\n",
       "    'l_start': '08:30',\n",
       "    'l_end': '10:00',\n",
       "    'lessons_count': '6',\n",
       "    'activity_type_id': '1',\n",
       "    'entity_id': '2',\n",
       "    'scheduleType': 'lesson',\n",
       "    'eventName': 'Другое',\n",
       "    'eventSubtypeName': None}},\n",
       "  '2': {'5': {'lenta': '2',\n",
       "    'weekday': '5',\n",
       "    'groups': '9/1-РПО-24/2',\n",
       "    'num_rooms': '3 [BLUE]',\n",
       "    'name_spec': 'Интернет-маркетинг',\n",
       "    'id_form': '2',\n",
       "    'l_start': '10:10',\n",
       "    'l_end': '11:40',\n",
       "    'lessons_count': '6',\n",
       "    'activity_type_id': '1',\n",
       "    'entity_id': '2',\n",
       "    'scheduleType': 'lesson',\n",
       "    'eventName': 'Другое',\n",
       "    'eventSubtypeName': None}},\n",
       "  '7': {'7': {'lenta': '7',\n",
       "    'weekday': '7',\n",
       "    'groups': 'BootCamp51(зима)',\n",
       "    'num_rooms': '5 [LILAS]',\n",
       "    'name_spec': 'BootCamp Профориентация',\n",
       "    'id_form': '4',\n",
       "    'l_start': '18:00',\n",
       "    'l_end': '19:20',\n",
       "    'lessons_count': '9',\n",
       "    'activity_type_id': '1',\n",
       "    'entity_id': '4',\n",
       "    'scheduleType': 'lesson',\n",
       "    'eventName': None,\n",
       "    'eventSubtypeName': None}},\n",
       "  '8': {'7': {'lenta': '8',\n",
       "    'weekday': '7',\n",
       "    'groups': 'BootCamp51(зима)',\n",
       "    'num_rooms': '5 [LILAS]',\n",
       "    'name_spec': 'BootCamp Профориентация',\n",
       "    'id_form': '4',\n",
       "    'l_start': '19:30',\n",
       "    'l_end': '20:50',\n",
       "    'lessons_count': '9',\n",
       "    'activity_type_id': '1',\n",
       "    'entity_id': '4',\n",
       "    'scheduleType': 'lesson',\n",
       "    'eventName': None,\n",
       "    'eventSubtypeName': None}}},\n",
       " 'lents': [{'1': {'n_lenta': '0',\n",
       "    'n_day': '1',\n",
       "    'l_start': '08:00',\n",
       "    'l_end': '08:20'},\n",
       "   '2': {'n_lenta': '0', 'n_day': '2', 'l_start': '08:00', 'l_end': '08:20'},\n",
       "   '3': {'n_lenta': '0', 'n_day': '3', 'l_start': '08:00', 'l_end': '08:20'},\n",
       "   '4': {'n_lenta': '0', 'n_day': '4', 'l_start': '08:00', 'l_end': '08:20'},\n",
       "   '5': {'n_lenta': '0', 'n_day': '5', 'l_start': '08:00', 'l_end': '08:20'},\n",
       "   '6': {'n_lenta': '0', 'n_day': '6', 'l_start': '08:00', 'l_end': '08:20'},\n",
       "   '7': {'n_lenta': '0', 'n_day': '7', 'l_start': '07:10', 'l_end': '08:50'}},\n",
       "  {'1': {'n_lenta': '1', 'n_day': '1', 'l_start': '08:30', 'l_end': '10:00'},\n",
       "   '2': {'n_lenta': '1', 'n_day': '2', 'l_start': '08:30', 'l_end': '10:00'},\n",
       "   '3': {'n_lenta': '1', 'n_day': '3', 'l_start': '08:30', 'l_end': '10:00'},\n",
       "   '4': {'n_lenta': '1', 'n_day': '4', 'l_start': '08:30', 'l_end': '10:00'},\n",
       "   '5': {'n_lenta': '1', 'n_day': '5', 'l_start': '08:30', 'l_end': '10:00'},\n",
       "   '6': {'n_lenta': '1', 'n_day': '6', 'l_start': '08:30', 'l_end': '10:00'},\n",
       "   '7': {'n_lenta': '1', 'n_day': '7', 'l_start': '09:00', 'l_end': '10:20'}},\n",
       "  {'1': {'n_lenta': '2', 'n_day': '1', 'l_start': '10:10', 'l_end': '11:40'},\n",
       "   '2': {'n_lenta': '2', 'n_day': '2', 'l_start': '10:10', 'l_end': '11:40'},\n",
       "   '3': {'n_lenta': '2', 'n_day': '3', 'l_start': '10:10', 'l_end': '11:40'},\n",
       "   '4': {'n_lenta': '2', 'n_day': '4', 'l_start': '10:10', 'l_end': '11:40'},\n",
       "   '5': {'n_lenta': '2', 'n_day': '5', 'l_start': '10:10', 'l_end': '11:40'},\n",
       "   '6': {'n_lenta': '2', 'n_day': '6', 'l_start': '10:10', 'l_end': '11:40'},\n",
       "   '7': {'n_lenta': '2', 'n_day': '7', 'l_start': '10:30', 'l_end': '11:50'}},\n",
       "  {'1': {'n_lenta': '3', 'n_day': '1', 'l_start': '12:00', 'l_end': '13:30'},\n",
       "   '2': {'n_lenta': '3', 'n_day': '2', 'l_start': '12:00', 'l_end': '13:30'},\n",
       "   '3': {'n_lenta': '3', 'n_day': '3', 'l_start': '12:00', 'l_end': '13:30'},\n",
       "   '4': {'n_lenta': '3', 'n_day': '4', 'l_start': '12:00', 'l_end': '13:30'},\n",
       "   '5': {'n_lenta': '3', 'n_day': '5', 'l_start': '12:00', 'l_end': '13:30'},\n",
       "   '6': {'n_lenta': '3', 'n_day': '6', 'l_start': '12:00', 'l_end': '13:30'},\n",
       "   '7': {'n_lenta': '3', 'n_day': '7', 'l_start': '12:00', 'l_end': '13:20'}},\n",
       "  {'1': {'n_lenta': '4', 'n_day': '1', 'l_start': '13:40', 'l_end': '15:10'},\n",
       "   '2': {'n_lenta': '4', 'n_day': '2', 'l_start': '13:40', 'l_end': '15:10'},\n",
       "   '3': {'n_lenta': '4', 'n_day': '3', 'l_start': '13:40', 'l_end': '15:10'},\n",
       "   '4': {'n_lenta': '4', 'n_day': '4', 'l_start': '13:40', 'l_end': '15:10'},\n",
       "   '5': {'n_lenta': '4', 'n_day': '5', 'l_start': '13:40', 'l_end': '15:10'},\n",
       "   '6': {'n_lenta': '4', 'n_day': '6', 'l_start': '13:40', 'l_end': '15:10'},\n",
       "   '7': {'n_lenta': '4', 'n_day': '7', 'l_start': '13:30', 'l_end': '14:50'}},\n",
       "  {'1': {'n_lenta': '5', 'n_day': '1', 'l_start': '15:20', 'l_end': '16:50'},\n",
       "   '2': {'n_lenta': '5', 'n_day': '2', 'l_start': '15:20', 'l_end': '16:50'},\n",
       "   '3': {'n_lenta': '5', 'n_day': '3', 'l_start': '15:20', 'l_end': '16:50'},\n",
       "   '4': {'n_lenta': '5', 'n_day': '4', 'l_start': '15:20', 'l_end': '16:50'},\n",
       "   '5': {'n_lenta': '5', 'n_day': '5', 'l_start': '15:20', 'l_end': '16:50'},\n",
       "   '7': {'n_lenta': '5', 'n_day': '7', 'l_start': '15:00', 'l_end': '16:20'}},\n",
       "  {'7': {'n_lenta': '6', 'n_day': '7', 'l_start': '16:30', 'l_end': '17:50'}},\n",
       "  {'7': {'n_lenta': '7', 'n_day': '7', 'l_start': '18:00', 'l_end': '19:20'}},\n",
       "  {'7': {'n_lenta': '8', 'n_day': '7', 'l_start': '19:30', 'l_end': '20:50'}}],\n",
       " 'days': {'1': 'Понедельник',\n",
       "  '2': 'Вторник',\n",
       "  '3': 'Среда',\n",
       "  '4': 'Четверг',\n",
       "  '5': 'Пятница',\n",
       "  '6': 'Суббота',\n",
       "  '7': 'Воскресенье'},\n",
       " 'daysShort': {'1': 'Пн',\n",
       "  '2': 'Вт',\n",
       "  '3': 'Ср',\n",
       "  '4': 'Чт',\n",
       "  '5': 'Пт',\n",
       "  '6': 'Сб',\n",
       "  '7': 'Вс'},\n",
       " 'dates': {'1': '2025-03-31',\n",
       "  '2': '2025-04-01',\n",
       "  '3': '2025-04-02',\n",
       "  '4': '2025-04-03',\n",
       "  '5': '2025-04-04',\n",
       "  '6': '2025-04-05',\n",
       "  '7': '2025-04-06'},\n",
       " 'curdate': 'Среда, 02 Апрель',\n",
       " 'start_end': {'monday': '2025-03-31', 'sunday': '2025-04-06'}}"
      ]
     },
     "execution_count": 27,
     "metadata": {},
     "output_type": "execute_result"
    }
   ],
   "source": [
    "# https://curlconverter.com/ - параметры запроса\n",
    "\n",
    "cookies = {\n",
    "    # '_ym_uid': '1693049884233653359',\n",
    "    # '_ga': 'GA1.1.97140793.1693049884',\n",
    "    # 'AMP_MKTG_da58b09d09': 'JTdCJTdE',\n",
    "    # '_ym_d': '1741089388',\n",
    "    # '_ym_isad': '2',\n",
    "    # 'city_id': '136632527bfa6f7eeff74c5273e81f8bcdb890dd93a2a72fcde23e1d8939def6a%3A2%3A%7Bi%3A0%3Bs%3A7%3A%22city_id%22%3Bi%3A1%3Bi%3A483%3B%7D',\n",
    "     'PHPSESSID': '311e92dac5e8ed96f31e7bc3cd15f8a5', # may be  change\n",
    "    # '_csrf': '0d6ba310cdf4e511b6a21f29a1f73ec3e9c7a9835134da4b4b4aa758f24354d9a%3A2%3A%7Bi%3A0%3Bs%3A5%3A%22_csrf%22%3Bi%3A1%3Bs%3A32%3A%22HGpIkCq8esrZGEB-29-KqMzCKC78Lj45%22%3B%7D',\n",
    "    # '_ga_H12JN54PEQ': 'GS1.1.1742897202.280.1.1742897224.0.0.0',\n",
    "    # 'AMP_da58b09d09': 'JTdCJTIyZGV2aWNlSWQlMjIlM0ElMjJmYmY0MzlkZC05NGIzLTRjNWEtYTMzZS03NjgyNjFlZTY2MjglMjIlMkMlMjJzZXNzaW9uSWQlMjIlM0ExNzQyODk3MTg0MTU3JTJDJTIyb3B0T3V0JTIyJTNBZmFsc2UlMkMlMjJsYXN0RXZlbnRUaW1lJTIyJTNBMTc0Mjg5NzIyNDI1MyUyQyUyMmxhc3RFdmVudElkJTIyJTNBMTM5NCU3RA==',\n",
    "}\n",
    "\n",
    "headers = {\n",
    "    # 'accept': 'application/json, text/plain, */*',\n",
    "    # 'accept-language': 'ru,en;q=0.9',\n",
    "    # 'content-type': 'application/json;charset=UTF-8',\n",
    "    # 'cookie': '_ym_uid=1693049884233653359; _ga=GA1.1.97140793.1693049884; AMP_MKTG_da58b09d09=JTdCJTdE; _ym_d=1741089388; _ym_isad=2; city_id=136632527bfa6f7eeff74c5273e81f8bcdb890dd93a2a72fcde23e1d8939def6a%3A2%3A%7Bi%3A0%3Bs%3A7%3A%22city_id%22%3Bi%3A1%3Bi%3A483%3B%7D; PHPSESSID=2d123424b2cb80b477c31e4716e8e66a; _csrf=0d6ba310cdf4e511b6a21f29a1f73ec3e9c7a9835134da4b4b4aa758f24354d9a%3A2%3A%7Bi%3A0%3Bs%3A5%3A%22_csrf%22%3Bi%3A1%3Bs%3A32%3A%22HGpIkCq8esrZGEB-29-KqMzCKC78Lj45%22%3B%7D; _ga_H12JN54PEQ=GS1.1.1742897202.280.1.1742897224.0.0.0; AMP_da58b09d09=JTdCJTIyZGV2aWNlSWQlMjIlM0ElMjJmYmY0MzlkZC05NGIzLTRjNWEtYTMzZS03NjgyNjFlZTY2MjglMjIlMkMlMjJzZXNzaW9uSWQlMjIlM0ExNzQyODk3MTg0MTU3JTJDJTIyb3B0T3V0JTIyJTNBZmFsc2UlMkMlMjJsYXN0RXZlbnRUaW1lJTIyJTNBMTc0Mjg5NzIyNDI1MyUyQyUyMmxhc3RFdmVudElkJTIyJTNBMTM5NCU3RA==',\n",
    "    # 'id-local-hash': '1a87ff679a2f3e71d9181a67b7542122c', #хэш ключа dotenv!!!!\n",
    "    'id-local-hash': KEY,\n",
    "    # 'origin': 'https://omni.top-academy.ru',\n",
    "    # 'priority': 'u=1, i',\n",
    "    # 'referer': 'https://omni.top-academy.ru/',\n",
    "    # 'sec-ch-ua': '\"Not A(Brand\";v=\"8\", \"Chromium\";v=\"132\", \"YaBrowser\";v=\"25.2\", \"Yowser\";v=\"2.5\"',\n",
    "    # 'sec-ch-ua-mobile': '?0',\n",
    "    # 'sec-ch-ua-platform': '\"Windows\"',\n",
    "    # 'sec-fetch-dest': 'empty',\n",
    "    # 'sec-fetch-mode': 'cors',\n",
    "    # 'sec-fetch-site': 'same-origin',\n",
    "    # 'user-agent': 'Mozilla/5.0 (Windows NT 10.0; Win64; x64) AppleWebKit/537.36 (KHTML, like Gecko) Chrome/132.0.0.0 YaBrowser/25.2.0.0 Safari/537.36',\n",
    "}\n",
    "\n",
    "json_data = {\n",
    "    'week': 0, # Ok delite\n",
    "}\n",
    "\n",
    "response = requests.post(url=URL, cookies=cookies, headers=headers, json=json_data)\n",
    "response.status_code\n",
    "\n",
    "# response.json() #[\"body\"].keys()\n",
    "# response.json()[\"body\"]['8']['7']"
   ]
  },
  {
   "cell_type": "markdown",
   "metadata": {},
   "source": [
    "# Create dataframes\n",
    "\n"
   ]
  },
  {
   "cell_type": "code",
   "execution_count": 19,
   "metadata": {},
   "outputs": [],
   "source": [
    "df_shedule = pd.DataFrame(columns=['num_day', 'day', '#_lesson', 'subject', 'group', \"room\"])\n",
    "\n",
    "name_days = pd.DataFrame({\n",
    "        \"1\": [\"Пн\"],\n",
    "        \"2\": [\"Вт\"],\n",
    "        \"3\": [\"Ср\"],\n",
    "        \"4\": [\"Чт\"],\n",
    "        \"5\": [\"Пт\"],\n",
    "        \"6\": [\"Сб\"],\n",
    "        \"7\": [\"Вс\"]}) #, index=range(7))\n",
    "\n",
    "name_days = name_days.stack().reset_index(drop=True)"
   ]
  },
  {
   "cell_type": "code",
   "execution_count": 28,
   "metadata": {},
   "outputs": [],
   "source": [
    "keys_of_body = response.json()[\"body\"].keys()\n",
    "body = response.json()[\"body\"]\n",
    "\n",
    "if response.status_code == 200:\n",
    "    for lents_body in keys_of_body:\n",
    "        for key_day in body[lents_body].keys():\n",
    "            num_day = int(key_day)\n",
    "            day = name_days[int(key_day)-1]\n",
    "            lesson = body[lents_body][key_day][\"lenta\"]\n",
    "            subject = body[lents_body][key_day]['name_spec']\n",
    "            group = body[lents_body][key_day]['groups']\n",
    "            room = body[lents_body][key_day]['num_rooms']\n",
    "            df_shedule.loc[len(df_shedule)] = [num_day, day, lesson, subject, group, room]\n",
    "else:\n",
    "    print(f\"Ошибка: {response.status_code}\")"
   ]
  },
  {
   "cell_type": "markdown",
   "metadata": {},
   "source": [
    "# CHeck DataFrame"
   ]
  },
  {
   "cell_type": "code",
   "execution_count": 29,
   "metadata": {},
   "outputs": [
    {
     "name": "stdout",
     "output_type": "stream",
     "text": [
      "Пт\n"
     ]
    }
   ],
   "source": [
    "# df_shedule.query('num_day == 5')\n",
    "\n",
    "# display(df_shedule)\n",
    "# subject = df_shedule.loc[df_shedule['num_day'] == int(7), '#_lesson'].values\n",
    "# subject[0]\n",
    "# df_shedule[df_shedule['num_day'] == int(7)][0]\n",
    "\n",
    "print(df_shedule[df_shedule['num_day'] == int(5)]['day'].values[0])\n"
   ]
  },
  {
   "cell_type": "markdown",
   "metadata": {},
   "source": [
    "Telegram Bot\n"
   ]
  },
  {
   "cell_type": "code",
   "execution_count": null,
   "metadata": {},
   "outputs": [],
   "source": [
    "# 1)Create bot 2)Give token 3)Task like Neyro 4) Add pandas 5)Thin abot Logic 1010)task server Heroku -> RSU\n",
    "import telebot\n",
    "TOKEN_BOT = os.getenv('TOKEN_BOT') \n",
    "\n",
    "bot= telebot.TeleBot(TOKEN_BOT)\n",
    "@bot.message_handler(commands=['start', 'help'])\n",
    "def handle_start(message):\n",
    "    bot.reply_to(message, \" Hello? i am bot for DataFrame\")\n",
    "\n",
    "@bot.message_handler(content_types = ['text'])\n",
    "def get_text_messages(message):\n",
    "    num_of_week_day = message.text.strip()\n",
    "    subject = df_shedule.loc[df_shedule['num_day'] == int(num_of_week_day), 'subject'].values\n",
    "    nm_lesson = df_shedule.loc[df_shedule['num_day'] == int(num_of_week_day), '#_lesson'].values\n",
    "    if len(subject) > 0:\n",
    "        i = 0\n",
    "        for sub in subject:\n",
    "            bot.reply_to(message, f\"В {df_shedule[df_shedule['num_day'] == int(num_of_week_day)]['day'].values[0]} пара # {nm_lesson[i]} по дисциплине: {sub}\")\n",
    "            i += 1\n",
    "\n",
    "    else: \n",
    "        bot.reply_to(message, f'В {[name_days[int(num_of_week_day )- 1]][0]} у Вас пар нет')\n",
    "    \n",
    "\n",
    "bot.polling(none_stop = True, interval = 0)\n"
   ]
  },
  {
   "cell_type": "markdown",
   "metadata": {},
   "source": [
    "Просто функция для проверки логики бота"
   ]
  },
  {
   "cell_type": "code",
   "execution_count": 30,
   "metadata": {},
   "outputs": [
    {
     "name": "stdout",
     "output_type": "stream",
     "text": [
      "В Пт Пара # 1 по дисциплине: Интернет-маркетинг\n",
      "В Пт Пара # 2 по дисциплине: Интернет-маркетинг\n"
     ]
    }
   ],
   "source": [
    "def get_text_messages(message = input('Enter nm day')):\n",
    "    num_of_week_day = message.strip()\n",
    "    subject = df_shedule.loc[df_shedule['num_day'] == int(num_of_week_day), 'subject'].values\n",
    "    nm_lesson = df_shedule.loc[df_shedule['num_day'] == int(num_of_week_day), '#_lesson'].values\n",
    "    if len(subject) > 0:\n",
    "        i = 0\n",
    "        for sub in subject:\n",
    "            print(f\"В {df_shedule[df_shedule['num_day'] == int(num_of_week_day)]['day'].values[0]} Пара # {nm_lesson[i]} по дисциплине: {sub}\")\n",
    "            i += 1\n",
    "\n",
    "    else: \n",
    "        print(f'В {[name_days[int(num_of_week_day )- 1]][0]} у Вас пар нет')\n",
    "\n",
    "\n",
    "get_text_messages()"
   ]
  }
 ],
 "metadata": {
  "kernelspec": {
   "display_name": "Python 3",
   "language": "python",
   "name": "python3"
  },
  "language_info": {
   "codemirror_mode": {
    "name": "ipython",
    "version": 3
   },
   "file_extension": ".py",
   "mimetype": "text/x-python",
   "name": "python",
   "nbconvert_exporter": "python",
   "pygments_lexer": "ipython3",
   "version": "3.11.3"
  }
 },
 "nbformat": 4,
 "nbformat_minor": 2
}
